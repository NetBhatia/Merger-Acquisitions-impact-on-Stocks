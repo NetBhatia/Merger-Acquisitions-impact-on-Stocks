{
 "cells": [
  {
   "cell_type": "code",
   "execution_count": 1,
   "metadata": {
    "collapsed": true
   },
   "outputs": [],
   "source": [
    "# Dependencies\n",
    "import json\n",
    "import csv\n",
    "import os\n",
    "import matplotlib.pyplot as plt\n",
    "import scipy.stats as st\n",
    "import pandas as pd\n",
    "import numpy as np\n",
    "import requests\n",
    "import time\n",
    "import datetime\n",
    "from scipy.stats import linregress\n",
    "import requests\n",
    "from api_keys import omdb_api_key\n",
    "from omdbapi.movie_search import GetMovie\n"
   ]
  },
  {
   "cell_type": "code",
   "execution_count": 2,
   "metadata": {},
   "outputs": [],
   "source": [
    "# Create path to obtain movie information from OMDB API\n",
    "movie = GetMovie(api_key=omdb_api_key)\n"
   ]
  },
  {
   "cell_type": "code",
   "execution_count": 3,
   "metadata": {},
   "outputs": [],
   "source": [
    "# Create Movies List that we want to sample for the purpose of performing the analysis:\n",
    "\n",
    "movie_list = [\"The Shawshank Redemption\", \"The Godfather\", 'Pulp Fiction',\n",
    "'The Dark Knight',\"Schindler's List\",'Forrest Gump','The Matrix',\n",
    "'Inception','The Lord of the Rings: The Return of the King','The Silence of the Lambs']\n",
    "\n",
    "movies_data = []"
   ]
  },
  {
   "cell_type": "code",
   "execution_count": 4,
   "metadata": {
    "scrolled": true
   },
   "outputs": [],
   "source": [
    "# Get movie details for all movies using a for loop function:\n",
    "for movi in movie_list:\n",
    "    try:\n",
    "        movinfo = movie.get_movie(title=movi)\n",
    "\n",
    "        # Fetch required information for the movies:\n",
    "        movi_title = movinfo[\"title\"]\n",
    "        rel_year = movinfo[\"year\"]\n",
    "        movi_genre = movinfo[\"genre\"]\n",
    "        movi_rating = movinfo[\"imdbrating\"]\n",
    "        movi_votes = movinfo[\"imdbvotes\"]\n",
    "        movi_reven = movinfo[\"boxoffice\"]\n",
    "\n",
    "         # Append the City information into city_data list\n",
    "        movies_data.append({\"Title\": movi_title, \n",
    "                          \"Release Year\": rel_year, \n",
    "                          \"Genre\": movi_genre, \n",
    "                          \"Rating\": movi_rating,\n",
    "                          \"Count of Votes\": movi_votes,\n",
    "                          \"Box Office Revenue\": movi_reven})\n",
    "\n",
    "     # If an error is experienced, skip the movie\n",
    "\n",
    "    except:\n",
    "        print(\"movie not found\")\n",
    "    pass"
   ]
  },
  {
   "cell_type": "code",
   "execution_count": 5,
   "metadata": {},
   "outputs": [
    {
     "data": {
      "text/plain": [
       "Title                 10\n",
       "Release Year          10\n",
       "Genre                 10\n",
       "Rating                10\n",
       "Count of Votes        10\n",
       "Box Office Revenue    10\n",
       "dtype: int64"
      ]
     },
     "execution_count": 5,
     "metadata": {},
     "output_type": "execute_result"
    }
   ],
   "source": [
    "# Convert the movies data into a Pandas DataFrame\n",
    "movies_data_df = pd.DataFrame(movies_data)\n",
    "\n",
    "# Show Record Count\n",
    "movies_data_df.count()"
   ]
  },
  {
   "cell_type": "code",
   "execution_count": 6,
   "metadata": {},
   "outputs": [
    {
     "data": {
      "text/html": [
       "<div>\n",
       "<style scoped>\n",
       "    .dataframe tbody tr th:only-of-type {\n",
       "        vertical-align: middle;\n",
       "    }\n",
       "\n",
       "    .dataframe tbody tr th {\n",
       "        vertical-align: top;\n",
       "    }\n",
       "\n",
       "    .dataframe thead th {\n",
       "        text-align: right;\n",
       "    }\n",
       "</style>\n",
       "<table border=\"1\" class=\"dataframe\">\n",
       "  <thead>\n",
       "    <tr style=\"text-align: right;\">\n",
       "      <th></th>\n",
       "      <th>Title</th>\n",
       "      <th>Release Year</th>\n",
       "      <th>Genre</th>\n",
       "      <th>Rating</th>\n",
       "      <th>Count of Votes</th>\n",
       "      <th>Box Office Revenue</th>\n",
       "    </tr>\n",
       "  </thead>\n",
       "  <tbody>\n",
       "    <tr>\n",
       "      <th>0</th>\n",
       "      <td>The Shawshank Redemption</td>\n",
       "      <td>1994</td>\n",
       "      <td>Drama</td>\n",
       "      <td>9.3</td>\n",
       "      <td>2,790,043</td>\n",
       "      <td>$28,767,189</td>\n",
       "    </tr>\n",
       "    <tr>\n",
       "      <th>1</th>\n",
       "      <td>The Godfather</td>\n",
       "      <td>1972</td>\n",
       "      <td>Crime, Drama</td>\n",
       "      <td>9.2</td>\n",
       "      <td>1,945,639</td>\n",
       "      <td>$136,381,073</td>\n",
       "    </tr>\n",
       "    <tr>\n",
       "      <th>2</th>\n",
       "      <td>Pulp Fiction</td>\n",
       "      <td>1994</td>\n",
       "      <td>Crime, Drama</td>\n",
       "      <td>8.9</td>\n",
       "      <td>2,142,709</td>\n",
       "      <td>$107,928,762</td>\n",
       "    </tr>\n",
       "    <tr>\n",
       "      <th>3</th>\n",
       "      <td>The Dark Knight</td>\n",
       "      <td>2008</td>\n",
       "      <td>Action, Crime, Drama</td>\n",
       "      <td>9.0</td>\n",
       "      <td>2,774,186</td>\n",
       "      <td>$534,987,076</td>\n",
       "    </tr>\n",
       "    <tr>\n",
       "      <th>4</th>\n",
       "      <td>Schindler's List</td>\n",
       "      <td>1993</td>\n",
       "      <td>Biography, Drama, History</td>\n",
       "      <td>9.0</td>\n",
       "      <td>1,404,593</td>\n",
       "      <td>$96,898,818</td>\n",
       "    </tr>\n",
       "    <tr>\n",
       "      <th>5</th>\n",
       "      <td>Forrest Gump</td>\n",
       "      <td>1994</td>\n",
       "      <td>Drama, Romance</td>\n",
       "      <td>8.8</td>\n",
       "      <td>2,174,144</td>\n",
       "      <td>$330,455,270</td>\n",
       "    </tr>\n",
       "    <tr>\n",
       "      <th>6</th>\n",
       "      <td>The Matrix</td>\n",
       "      <td>1999</td>\n",
       "      <td>Action, Sci-Fi</td>\n",
       "      <td>8.7</td>\n",
       "      <td>1,984,402</td>\n",
       "      <td>$172,076,928</td>\n",
       "    </tr>\n",
       "    <tr>\n",
       "      <th>7</th>\n",
       "      <td>Inception</td>\n",
       "      <td>2010</td>\n",
       "      <td>Action, Adventure, Sci-Fi</td>\n",
       "      <td>8.8</td>\n",
       "      <td>2,462,841</td>\n",
       "      <td>$292,587,330</td>\n",
       "    </tr>\n",
       "    <tr>\n",
       "      <th>8</th>\n",
       "      <td>The Lord of the Rings: The Return of the King</td>\n",
       "      <td>2003</td>\n",
       "      <td>Action, Adventure, Drama</td>\n",
       "      <td>9.0</td>\n",
       "      <td>1,913,042</td>\n",
       "      <td>$379,427,292</td>\n",
       "    </tr>\n",
       "    <tr>\n",
       "      <th>9</th>\n",
       "      <td>The Silence of the Lambs</td>\n",
       "      <td>1991</td>\n",
       "      <td>Crime, Drama, Thriller</td>\n",
       "      <td>8.6</td>\n",
       "      <td>1,490,803</td>\n",
       "      <td>$130,742,922</td>\n",
       "    </tr>\n",
       "  </tbody>\n",
       "</table>\n",
       "</div>"
      ],
      "text/plain": [
       "                                           Title Release Year  \\\n",
       "0                       The Shawshank Redemption         1994   \n",
       "1                                  The Godfather         1972   \n",
       "2                                   Pulp Fiction         1994   \n",
       "3                                The Dark Knight         2008   \n",
       "4                               Schindler's List         1993   \n",
       "5                                   Forrest Gump         1994   \n",
       "6                                     The Matrix         1999   \n",
       "7                                      Inception         2010   \n",
       "8  The Lord of the Rings: The Return of the King         2003   \n",
       "9                       The Silence of the Lambs         1991   \n",
       "\n",
       "                       Genre Rating Count of Votes Box Office Revenue  \n",
       "0                      Drama    9.3      2,790,043        $28,767,189  \n",
       "1               Crime, Drama    9.2      1,945,639       $136,381,073  \n",
       "2               Crime, Drama    8.9      2,142,709       $107,928,762  \n",
       "3       Action, Crime, Drama    9.0      2,774,186       $534,987,076  \n",
       "4  Biography, Drama, History    9.0      1,404,593        $96,898,818  \n",
       "5             Drama, Romance    8.8      2,174,144       $330,455,270  \n",
       "6             Action, Sci-Fi    8.7      1,984,402       $172,076,928  \n",
       "7  Action, Adventure, Sci-Fi    8.8      2,462,841       $292,587,330  \n",
       "8   Action, Adventure, Drama    9.0      1,913,042       $379,427,292  \n",
       "9     Crime, Drama, Thriller    8.6      1,490,803       $130,742,922  "
      ]
     },
     "execution_count": 6,
     "metadata": {},
     "output_type": "execute_result"
    }
   ],
   "source": [
    "# Show dataframe\n",
    "movies_data_df"
   ]
  },
  {
   "cell_type": "code",
   "execution_count": 7,
   "metadata": {},
   "outputs": [
    {
     "data": {
      "text/plain": [
       "0    2,790,043\n",
       "1    1,945,639\n",
       "2    2,142,709\n",
       "3    2,774,186\n",
       "4    1,404,593\n",
       "Name: Count of Votes, dtype: object"
      ]
     },
     "execution_count": 7,
     "metadata": {},
     "output_type": "execute_result"
    }
   ],
   "source": [
    "# Get datatype of Count of Votes column:\n",
    "movies_data_df[\"Count of Votes\"].head()"
   ]
  },
  {
   "cell_type": "code",
   "execution_count": 8,
   "metadata": {},
   "outputs": [
    {
     "data": {
      "text/plain": [
       "0    2790043\n",
       "1    1945639\n",
       "2    2142709\n",
       "3    2774186\n",
       "4    1404593\n",
       "Name: Count of Votes, dtype: int64"
      ]
     },
     "execution_count": 8,
     "metadata": {},
     "output_type": "execute_result"
    }
   ],
   "source": [
    "# Convert Count of Votes to numeric:\n",
    "movies_data_df[\"Count of Votes\"]=pd.to_numeric(movies_data_df[\"Count of Votes\"].str.replace(',',''), errors='coerce')\n",
    "movies_data_df[\"Count of Votes\"].head()"
   ]
  },
  {
   "cell_type": "code",
   "execution_count": 9,
   "metadata": {},
   "outputs": [
    {
     "name": "stdout",
     "output_type": "stream",
     "text": [
      "Average count of votes per movie is 2108240.0\n"
     ]
    }
   ],
   "source": [
    "# Calculate the average (mean) count of votes:\n",
    "average_vote_count = round(movies_data_df[\"Count of Votes\"].mean(),0)\n",
    "print(f\"Average count of votes per movie is {average_vote_count}\")"
   ]
  },
  {
   "cell_type": "code",
   "execution_count": 10,
   "metadata": {},
   "outputs": [
    {
     "data": {
      "text/plain": [
       "0     28767189\n",
       "1    136381073\n",
       "2    107928762\n",
       "3    534987076\n",
       "4     96898818\n",
       "Name: Box Office Revenue, dtype: int32"
      ]
     },
     "execution_count": 10,
     "metadata": {},
     "output_type": "execute_result"
    }
   ],
   "source": [
    "# Get Box Office Revenue data type:\n",
    "movies_data_df[\"Box Office Revenue\"] = movies_data_df['Box Office Revenue'].str.replace('$', '').str.replace(',', '').astype(int)\n",
    "movies_data_df[\"Box Office Revenue\"].head()"
   ]
  },
  {
   "cell_type": "code",
   "execution_count": 11,
   "metadata": {},
   "outputs": [
    {
     "name": "stdout",
     "output_type": "stream",
     "text": [
      "Average revenue per movie is 221025266.0\n"
     ]
    }
   ],
   "source": [
    "# Calculate the average (mean) revenue:\n",
    "average_revenue = round(movies_data_df[\"Box Office Revenue\"].mean(),0)\n",
    "print(f\"Average revenue per movie is {average_revenue}\")"
   ]
  },
  {
   "cell_type": "code",
   "execution_count": 12,
   "metadata": {
    "scrolled": true
   },
   "outputs": [
    {
     "name": "stdout",
     "output_type": "stream",
     "text": [
      "Average rating is 9.0\n"
     ]
    }
   ],
   "source": [
    "# Calculate the average of ratings:\n",
    "movies_data_df[\"Rating\"]=pd.to_numeric(movies_data_df[\"Rating\"])\n",
    "average_rating = round(movies_data_df[\"Rating\"].mean(),0)\n",
    "print(f\"Average rating is {average_rating}\")"
   ]
  },
  {
   "cell_type": "code",
   "execution_count": 13,
   "metadata": {
    "scrolled": true
   },
   "outputs": [
    {
     "name": "stdout",
     "output_type": "stream",
     "text": [
      "From the dataset, we see that a movie with a rating of 9.0 and 2108240.0 votes earns a revenue of about $221025266.0\n"
     ]
    }
   ],
   "source": [
    "# Print average revenue analysis based on count of votes and ratings\n",
    "print(f\"From the dataset, we see that a movie with a rating of {average_rating} and {average_vote_count} votes earns a revenue of about ${average_revenue}\")"
   ]
  },
  {
   "cell_type": "code",
   "execution_count": 14,
   "metadata": {},
   "outputs": [
    {
     "data": {
      "text/html": [
       "<div>\n",
       "<style scoped>\n",
       "    .dataframe tbody tr th:only-of-type {\n",
       "        vertical-align: middle;\n",
       "    }\n",
       "\n",
       "    .dataframe tbody tr th {\n",
       "        vertical-align: top;\n",
       "    }\n",
       "\n",
       "    .dataframe thead th {\n",
       "        text-align: right;\n",
       "    }\n",
       "</style>\n",
       "<table border=\"1\" class=\"dataframe\">\n",
       "  <thead>\n",
       "    <tr style=\"text-align: right;\">\n",
       "      <th></th>\n",
       "      <th>Box Office Revenue</th>\n",
       "    </tr>\n",
       "    <tr>\n",
       "      <th>Genre</th>\n",
       "      <th></th>\n",
       "    </tr>\n",
       "  </thead>\n",
       "  <tbody>\n",
       "    <tr>\n",
       "      <th>Action, Crime, Drama</th>\n",
       "      <td>534987076.0</td>\n",
       "    </tr>\n",
       "    <tr>\n",
       "      <th>Action, Adventure, Drama</th>\n",
       "      <td>379427292.0</td>\n",
       "    </tr>\n",
       "    <tr>\n",
       "      <th>Drama, Romance</th>\n",
       "      <td>330455270.0</td>\n",
       "    </tr>\n",
       "    <tr>\n",
       "      <th>Action, Adventure, Sci-Fi</th>\n",
       "      <td>292587330.0</td>\n",
       "    </tr>\n",
       "    <tr>\n",
       "      <th>Action, Sci-Fi</th>\n",
       "      <td>172076928.0</td>\n",
       "    </tr>\n",
       "    <tr>\n",
       "      <th>Crime, Drama, Thriller</th>\n",
       "      <td>130742922.0</td>\n",
       "    </tr>\n",
       "    <tr>\n",
       "      <th>Crime, Drama</th>\n",
       "      <td>122154917.5</td>\n",
       "    </tr>\n",
       "    <tr>\n",
       "      <th>Biography, Drama, History</th>\n",
       "      <td>96898818.0</td>\n",
       "    </tr>\n",
       "    <tr>\n",
       "      <th>Drama</th>\n",
       "      <td>28767189.0</td>\n",
       "    </tr>\n",
       "  </tbody>\n",
       "</table>\n",
       "</div>"
      ],
      "text/plain": [
       "                           Box Office Revenue\n",
       "Genre                                        \n",
       "Action, Crime, Drama              534987076.0\n",
       "Action, Adventure, Drama          379427292.0\n",
       "Drama, Romance                    330455270.0\n",
       "Action, Adventure, Sci-Fi         292587330.0\n",
       "Action, Sci-Fi                    172076928.0\n",
       "Crime, Drama, Thriller            130742922.0\n",
       "Crime, Drama                      122154917.5\n",
       "Biography, Drama, History          96898818.0\n",
       "Drama                              28767189.0"
      ]
     },
     "execution_count": 14,
     "metadata": {},
     "output_type": "execute_result"
    }
   ],
   "source": [
    "# Get average Box Office Revenue by Genre category and identify which genre earns the highest revenue:\n",
    "avg_rev_gen = movies_data_df.groupby([\"Genre\"])[\"Box Office Revenue\"].mean()\n",
    "avg_rev_gen_df = pd.DataFrame(avg_rev_gen)\n",
    "\n",
    "avg_rev_gen_df.sort_values(\"Box Office Revenue\", ascending=False)"
   ]
  },
  {
   "cell_type": "code",
   "execution_count": 15,
   "metadata": {},
   "outputs": [
    {
     "name": "stdout",
     "output_type": "stream",
     "text": [
      "From the dataset we observe that Genre 'Action, Crime, Drama' earns the highest revenue,followed by 'Action, Adventure, Drama'\n",
      "while genre 'Drama' earns the lowest.\n"
     ]
    }
   ],
   "source": [
    "# Print Box office revenue analysis per Genre\n",
    "print(f\"From the dataset we observe that Genre 'Action, Crime, Drama' earns the highest revenue,followed by 'Action, Adventure, Drama'\")\n",
    "print(f\"while genre 'Drama' earns the lowest.\")"
   ]
  },
  {
   "cell_type": "code",
   "execution_count": 16,
   "metadata": {},
   "outputs": [
    {
     "data": {
      "text/html": [
       "<div>\n",
       "<style scoped>\n",
       "    .dataframe tbody tr th:only-of-type {\n",
       "        vertical-align: middle;\n",
       "    }\n",
       "\n",
       "    .dataframe tbody tr th {\n",
       "        vertical-align: top;\n",
       "    }\n",
       "\n",
       "    .dataframe thead th {\n",
       "        text-align: right;\n",
       "    }\n",
       "</style>\n",
       "<table border=\"1\" class=\"dataframe\">\n",
       "  <thead>\n",
       "    <tr style=\"text-align: right;\">\n",
       "      <th></th>\n",
       "      <th>Count of Votes</th>\n",
       "    </tr>\n",
       "    <tr>\n",
       "      <th>Genre</th>\n",
       "      <th></th>\n",
       "    </tr>\n",
       "  </thead>\n",
       "  <tbody>\n",
       "    <tr>\n",
       "      <th>Drama</th>\n",
       "      <td>2790043</td>\n",
       "    </tr>\n",
       "    <tr>\n",
       "      <th>Action, Crime, Drama</th>\n",
       "      <td>2774186</td>\n",
       "    </tr>\n",
       "    <tr>\n",
       "      <th>Action, Adventure, Sci-Fi</th>\n",
       "      <td>2462841</td>\n",
       "    </tr>\n",
       "    <tr>\n",
       "      <th>Drama, Romance</th>\n",
       "      <td>2174144</td>\n",
       "    </tr>\n",
       "    <tr>\n",
       "      <th>Crime, Drama</th>\n",
       "      <td>2044174</td>\n",
       "    </tr>\n",
       "    <tr>\n",
       "      <th>Action, Sci-Fi</th>\n",
       "      <td>1984402</td>\n",
       "    </tr>\n",
       "    <tr>\n",
       "      <th>Action, Adventure, Drama</th>\n",
       "      <td>1913042</td>\n",
       "    </tr>\n",
       "    <tr>\n",
       "      <th>Crime, Drama, Thriller</th>\n",
       "      <td>1490803</td>\n",
       "    </tr>\n",
       "    <tr>\n",
       "      <th>Biography, Drama, History</th>\n",
       "      <td>1404593</td>\n",
       "    </tr>\n",
       "  </tbody>\n",
       "</table>\n",
       "</div>"
      ],
      "text/plain": [
       "                           Count of Votes\n",
       "Genre                                    \n",
       "Drama                             2790043\n",
       "Action, Crime, Drama              2774186\n",
       "Action, Adventure, Sci-Fi         2462841\n",
       "Drama, Romance                    2174144\n",
       "Crime, Drama                      2044174\n",
       "Action, Sci-Fi                    1984402\n",
       "Action, Adventure, Drama          1913042\n",
       "Crime, Drama, Thriller            1490803\n",
       "Biography, Drama, History         1404593"
      ]
     },
     "execution_count": 16,
     "metadata": {},
     "output_type": "execute_result"
    }
   ],
   "source": [
    "# Get average Box Office Revenue by Count of Votes category and provide analysis:\n",
    "avg_rev_vot = movies_data_df.groupby([\"Genre\"])[\"Count of Votes\"].mean()\n",
    "avg_rev_vot_df = pd.DataFrame(avg_rev_vot)\n",
    "\n",
    "avg_rev_vot_df.sort_values(\"Count of Votes\", ascending=False)"
   ]
  },
  {
   "cell_type": "code",
   "execution_count": 17,
   "metadata": {},
   "outputs": [
    {
     "data": {
      "text/html": [
       "<div>\n",
       "<style scoped>\n",
       "    .dataframe tbody tr th:only-of-type {\n",
       "        vertical-align: middle;\n",
       "    }\n",
       "\n",
       "    .dataframe tbody tr th {\n",
       "        vertical-align: top;\n",
       "    }\n",
       "\n",
       "    .dataframe thead th {\n",
       "        text-align: right;\n",
       "    }\n",
       "</style>\n",
       "<table border=\"1\" class=\"dataframe\">\n",
       "  <thead>\n",
       "    <tr style=\"text-align: right;\">\n",
       "      <th></th>\n",
       "      <th>Rating</th>\n",
       "    </tr>\n",
       "    <tr>\n",
       "      <th>Genre</th>\n",
       "      <th></th>\n",
       "    </tr>\n",
       "  </thead>\n",
       "  <tbody>\n",
       "    <tr>\n",
       "      <th>Drama</th>\n",
       "      <td>9.30</td>\n",
       "    </tr>\n",
       "    <tr>\n",
       "      <th>Crime, Drama</th>\n",
       "      <td>9.05</td>\n",
       "    </tr>\n",
       "    <tr>\n",
       "      <th>Action, Adventure, Drama</th>\n",
       "      <td>9.00</td>\n",
       "    </tr>\n",
       "    <tr>\n",
       "      <th>Action, Crime, Drama</th>\n",
       "      <td>9.00</td>\n",
       "    </tr>\n",
       "    <tr>\n",
       "      <th>Biography, Drama, History</th>\n",
       "      <td>9.00</td>\n",
       "    </tr>\n",
       "    <tr>\n",
       "      <th>Action, Adventure, Sci-Fi</th>\n",
       "      <td>8.80</td>\n",
       "    </tr>\n",
       "    <tr>\n",
       "      <th>Drama, Romance</th>\n",
       "      <td>8.80</td>\n",
       "    </tr>\n",
       "    <tr>\n",
       "      <th>Action, Sci-Fi</th>\n",
       "      <td>8.70</td>\n",
       "    </tr>\n",
       "    <tr>\n",
       "      <th>Crime, Drama, Thriller</th>\n",
       "      <td>8.60</td>\n",
       "    </tr>\n",
       "  </tbody>\n",
       "</table>\n",
       "</div>"
      ],
      "text/plain": [
       "                           Rating\n",
       "Genre                            \n",
       "Drama                        9.30\n",
       "Crime, Drama                 9.05\n",
       "Action, Adventure, Drama     9.00\n",
       "Action, Crime, Drama         9.00\n",
       "Biography, Drama, History    9.00\n",
       "Action, Adventure, Sci-Fi    8.80\n",
       "Drama, Romance               8.80\n",
       "Action, Sci-Fi               8.70\n",
       "Crime, Drama, Thriller       8.60"
      ]
     },
     "execution_count": 17,
     "metadata": {},
     "output_type": "execute_result"
    }
   ],
   "source": [
    "# Get average Box Office Revenue by Count of Votes category and provide analysis:\n",
    "avg_rev_rate = movies_data_df.groupby([\"Genre\"])[\"Rating\"].mean()\n",
    "avg_rev_rate_df = pd.DataFrame(avg_rev_rate)\n",
    "\n",
    "avg_rev_rate_df.sort_values(\"Rating\", ascending=False)"
   ]
  },
  {
   "cell_type": "code",
   "execution_count": 18,
   "metadata": {},
   "outputs": [
    {
     "name": "stdout",
     "output_type": "stream",
     "text": [
      "The above analysis provides following observations:\n",
      "Genre 'Drama' received highest number of votes & ratings however it earned the least revenue at the Box Office.\n",
      "Genre 'Action, Crime, Drama' was second in the position for number of votes and 4th for ratings, however it earned the highest revenue at the Box Office.\n",
      "Genre 'Action, Adventure, Drama' received very low number of votes, but had rating of 9 and was second highest in terms of revenue at the Box Office.\n"
     ]
    }
   ],
   "source": [
    "# Analysis:\n",
    "print(f\"The above analysis provides following observations:\")\n",
    "print(f\"Genre 'Drama' received highest number of votes & ratings however it earned the least revenue at the Box Office.\")\n",
    "print(f\"Genre 'Action, Crime, Drama' was second in the position for number of votes and 4th for ratings, however it earned the highest revenue at the Box Office.\")\n",
    "print(f\"Genre 'Action, Adventure, Drama' received very low number of votes, but had rating of 9 and was second highest in terms of revenue at the Box Office.\")"
   ]
  },
  {
   "cell_type": "code",
   "execution_count": 19,
   "metadata": {},
   "outputs": [
    {
     "data": {
      "text/html": [
       "<div>\n",
       "<style scoped>\n",
       "    .dataframe tbody tr th:only-of-type {\n",
       "        vertical-align: middle;\n",
       "    }\n",
       "\n",
       "    .dataframe tbody tr th {\n",
       "        vertical-align: top;\n",
       "    }\n",
       "\n",
       "    .dataframe thead th {\n",
       "        text-align: right;\n",
       "    }\n",
       "</style>\n",
       "<table border=\"1\" class=\"dataframe\">\n",
       "  <thead>\n",
       "    <tr style=\"text-align: right;\">\n",
       "      <th></th>\n",
       "      <th>Count of Votes</th>\n",
       "    </tr>\n",
       "    <tr>\n",
       "      <th>Rating</th>\n",
       "      <th></th>\n",
       "    </tr>\n",
       "  </thead>\n",
       "  <tbody>\n",
       "    <tr>\n",
       "      <th>9.3</th>\n",
       "      <td>2790043.0</td>\n",
       "    </tr>\n",
       "    <tr>\n",
       "      <th>8.8</th>\n",
       "      <td>2318492.5</td>\n",
       "    </tr>\n",
       "    <tr>\n",
       "      <th>8.9</th>\n",
       "      <td>2142709.0</td>\n",
       "    </tr>\n",
       "    <tr>\n",
       "      <th>9.0</th>\n",
       "      <td>2030607.0</td>\n",
       "    </tr>\n",
       "    <tr>\n",
       "      <th>8.7</th>\n",
       "      <td>1984402.0</td>\n",
       "    </tr>\n",
       "    <tr>\n",
       "      <th>9.2</th>\n",
       "      <td>1945639.0</td>\n",
       "    </tr>\n",
       "    <tr>\n",
       "      <th>8.6</th>\n",
       "      <td>1490803.0</td>\n",
       "    </tr>\n",
       "  </tbody>\n",
       "</table>\n",
       "</div>"
      ],
      "text/plain": [
       "        Count of Votes\n",
       "Rating                \n",
       "9.3          2790043.0\n",
       "8.8          2318492.5\n",
       "8.9          2142709.0\n",
       "9.0          2030607.0\n",
       "8.7          1984402.0\n",
       "9.2          1945639.0\n",
       "8.6          1490803.0"
      ]
     },
     "execution_count": 19,
     "metadata": {},
     "output_type": "execute_result"
    }
   ],
   "source": [
    "# Get average Box Office Revenue by Count of Votes category and provide analysis:\n",
    "avg_movi_rate = movies_data_df.groupby([\"Rating\"])[\"Count of Votes\"].mean()\n",
    "avg_movi_rate_df = pd.DataFrame(avg_movi_rate)\n",
    "\n",
    "avg_movi_rate_df.sort_values(\"Count of Votes\", ascending=False)"
   ]
  },
  {
   "cell_type": "code",
   "execution_count": 20,
   "metadata": {},
   "outputs": [
    {
     "name": "stdout",
     "output_type": "stream",
     "text": [
      "From the above analysis we see that the highest rating (9.3) had the highest number of votes, however the next best rating (9.2)\n",
      "had considerably low number of votes, while the lowest rating had the lowest number of votes too.\n",
      "Count of votes is one of the factors that decides a movie's rating however there are other factors too that conclude a movie's rating.\n"
     ]
    }
   ],
   "source": [
    "# Provide analysis on whether count of votes decides the ratings:\n",
    "\n",
    "print(f\"From the above analysis we see that the highest rating (9.3) had the highest number of votes, however the next best rating (9.2)\")\n",
    "print(f\"had considerably low number of votes, while the lowest rating had the lowest number of votes too.\")\n",
    "print(f\"Count of votes is one of the factors that decides a movie's rating however there are other factors too that conclude a movie's rating.\")"
   ]
  },
  {
   "cell_type": "code",
   "execution_count": 21,
   "metadata": {},
   "outputs": [
    {
     "data": {
      "text/html": [
       "<div>\n",
       "<style scoped>\n",
       "    .dataframe tbody tr th:only-of-type {\n",
       "        vertical-align: middle;\n",
       "    }\n",
       "\n",
       "    .dataframe tbody tr th {\n",
       "        vertical-align: top;\n",
       "    }\n",
       "\n",
       "    .dataframe thead th {\n",
       "        text-align: right;\n",
       "    }\n",
       "</style>\n",
       "<table border=\"1\" class=\"dataframe\">\n",
       "  <thead>\n",
       "    <tr style=\"text-align: right;\">\n",
       "      <th></th>\n",
       "      <th>Title</th>\n",
       "      <th>Release Year</th>\n",
       "      <th>Genre</th>\n",
       "      <th>Rating</th>\n",
       "      <th>Count of Votes</th>\n",
       "      <th>Box Office Revenue</th>\n",
       "    </tr>\n",
       "  </thead>\n",
       "  <tbody>\n",
       "    <tr>\n",
       "      <th>0</th>\n",
       "      <td>The Shawshank Redemption</td>\n",
       "      <td>1994</td>\n",
       "      <td>Drama</td>\n",
       "      <td>9.3</td>\n",
       "      <td>2790043</td>\n",
       "      <td>28767189</td>\n",
       "    </tr>\n",
       "    <tr>\n",
       "      <th>1</th>\n",
       "      <td>The Godfather</td>\n",
       "      <td>1972</td>\n",
       "      <td>Crime, Drama</td>\n",
       "      <td>9.2</td>\n",
       "      <td>1945639</td>\n",
       "      <td>136381073</td>\n",
       "    </tr>\n",
       "    <tr>\n",
       "      <th>2</th>\n",
       "      <td>Pulp Fiction</td>\n",
       "      <td>1994</td>\n",
       "      <td>Crime, Drama</td>\n",
       "      <td>8.9</td>\n",
       "      <td>2142709</td>\n",
       "      <td>107928762</td>\n",
       "    </tr>\n",
       "    <tr>\n",
       "      <th>3</th>\n",
       "      <td>The Dark Knight</td>\n",
       "      <td>2008</td>\n",
       "      <td>Action, Crime, Drama</td>\n",
       "      <td>9.0</td>\n",
       "      <td>2774186</td>\n",
       "      <td>534987076</td>\n",
       "    </tr>\n",
       "    <tr>\n",
       "      <th>4</th>\n",
       "      <td>Schindler's List</td>\n",
       "      <td>1993</td>\n",
       "      <td>Biography, Drama, History</td>\n",
       "      <td>9.0</td>\n",
       "      <td>1404593</td>\n",
       "      <td>96898818</td>\n",
       "    </tr>\n",
       "    <tr>\n",
       "      <th>5</th>\n",
       "      <td>Forrest Gump</td>\n",
       "      <td>1994</td>\n",
       "      <td>Drama, Romance</td>\n",
       "      <td>8.8</td>\n",
       "      <td>2174144</td>\n",
       "      <td>330455270</td>\n",
       "    </tr>\n",
       "    <tr>\n",
       "      <th>6</th>\n",
       "      <td>The Matrix</td>\n",
       "      <td>1999</td>\n",
       "      <td>Action, Sci-Fi</td>\n",
       "      <td>8.7</td>\n",
       "      <td>1984402</td>\n",
       "      <td>172076928</td>\n",
       "    </tr>\n",
       "    <tr>\n",
       "      <th>7</th>\n",
       "      <td>Inception</td>\n",
       "      <td>2010</td>\n",
       "      <td>Action, Adventure, Sci-Fi</td>\n",
       "      <td>8.8</td>\n",
       "      <td>2462841</td>\n",
       "      <td>292587330</td>\n",
       "    </tr>\n",
       "    <tr>\n",
       "      <th>8</th>\n",
       "      <td>The Lord of the Rings: The Return of the King</td>\n",
       "      <td>2003</td>\n",
       "      <td>Action, Adventure, Drama</td>\n",
       "      <td>9.0</td>\n",
       "      <td>1913042</td>\n",
       "      <td>379427292</td>\n",
       "    </tr>\n",
       "    <tr>\n",
       "      <th>9</th>\n",
       "      <td>The Silence of the Lambs</td>\n",
       "      <td>1991</td>\n",
       "      <td>Crime, Drama, Thriller</td>\n",
       "      <td>8.6</td>\n",
       "      <td>1490803</td>\n",
       "      <td>130742922</td>\n",
       "    </tr>\n",
       "  </tbody>\n",
       "</table>\n",
       "</div>"
      ],
      "text/plain": [
       "                                           Title Release Year  \\\n",
       "0                       The Shawshank Redemption         1994   \n",
       "1                                  The Godfather         1972   \n",
       "2                                   Pulp Fiction         1994   \n",
       "3                                The Dark Knight         2008   \n",
       "4                               Schindler's List         1993   \n",
       "5                                   Forrest Gump         1994   \n",
       "6                                     The Matrix         1999   \n",
       "7                                      Inception         2010   \n",
       "8  The Lord of the Rings: The Return of the King         2003   \n",
       "9                       The Silence of the Lambs         1991   \n",
       "\n",
       "                       Genre  Rating  Count of Votes  Box Office Revenue  \n",
       "0                      Drama     9.3         2790043            28767189  \n",
       "1               Crime, Drama     9.2         1945639           136381073  \n",
       "2               Crime, Drama     8.9         2142709           107928762  \n",
       "3       Action, Crime, Drama     9.0         2774186           534987076  \n",
       "4  Biography, Drama, History     9.0         1404593            96898818  \n",
       "5             Drama, Romance     8.8         2174144           330455270  \n",
       "6             Action, Sci-Fi     8.7         1984402           172076928  \n",
       "7  Action, Adventure, Sci-Fi     8.8         2462841           292587330  \n",
       "8   Action, Adventure, Drama     9.0         1913042           379427292  \n",
       "9     Crime, Drama, Thriller     8.6         1490803           130742922  "
      ]
     },
     "execution_count": 21,
     "metadata": {},
     "output_type": "execute_result"
    }
   ],
   "source": [
    "movies_data_df"
   ]
  },
  {
   "cell_type": "code",
   "execution_count": 22,
   "metadata": {},
   "outputs": [
    {
     "name": "stdout",
     "output_type": "stream",
     "text": [
      "The correlation between both factors is -0.16\n"
     ]
    }
   ],
   "source": [
    "# Check if movie revenue and rating are correlated:\n",
    "boxoff_rev = movies_data_df.iloc[:,5]\n",
    "movie_rating = movies_data_df.iloc[:,3]\n",
    "correlation = st.pearsonr(boxoff_rev,movie_rating)\n",
    "print(f\"The correlation between both factors is {round(correlation[0],2)}\")"
   ]
  },
  {
   "cell_type": "code",
   "execution_count": 23,
   "metadata": {},
   "outputs": [
    {
     "name": "stdout",
     "output_type": "stream",
     "text": [
      "The correlation between both factors is -0.16\n"
     ]
    },
    {
     "data": {
      "image/png": "[encoded data removed]",
      "text/plain": [
       "<Figure size 432x288 with 1 Axes>"
      ]
     },
     "metadata": {
      "needs_background": "light"
     },
     "output_type": "display_data"
    }
   ],
   "source": [
    "# Compare the calcualted Pearson's r to the plots\n",
    "plt.scatter(boxoff_rev,movie_rating)\n",
    "plt.xlabel('Movie Revenue in 100 Million Dollars')\n",
    "plt.ylabel('Movie Ratings in Millions per IMDB source')\n",
    "print(f\"The correlation between both factors is {round(correlation[0],2)}\")\n",
    "plt.show()"
   ]
  },
  {
   "cell_type": "code",
   "execution_count": 24,
   "metadata": {},
   "outputs": [
    {
     "name": "stdout",
     "output_type": "stream",
     "text": [
      "The value of correlation is less than 0.3 which indicates none or very weak correlation between movie's revenue and its ratings.\n"
     ]
    }
   ],
   "source": [
    "# Movie Revenue vs Movie Rating Analysis:\n",
    "print(f\"The value of correlation is less than 0.3 which indicates none or very weak correlation between movie's revenue and its ratings.\")"
   ]
  },
  {
   "cell_type": "code",
   "execution_count": 31,
   "metadata": {},
   "outputs": [
    {
     "name": "stdout",
     "output_type": "stream",
     "text": [
      "Regression line equation is: y = -0.0 x + 8.98\n",
      "The r-squared is: -0.15870817433165324\n",
      "The regression shows a negative correlation.\n",
      "Movie's revenue has no correlation to its ratings.\n"
     ]
    },
    {
     "data": {
      "image/png": "[encoded data removed]",
      "text/plain": [
       "<Figure size 432x288 with 1 Axes>"
      ]
     },
     "metadata": {
      "needs_background": "light"
     },
     "output_type": "display_data"
    }
   ],
   "source": [
    "# Linear regression on Movie Revenue vs Count of Votes\n",
    "(slope, intercept, rvalue, pvalue, stderr) = linregress(boxoff_rev, movie_rating)\n",
    "regress_values = boxoff_rev * slope + intercept\n",
    "line_eq = f\"y = {str(round(slope,2))} x + {str(round(intercept,2))}\"\n",
    "print(f\"Regression line equation is: {line_eq}\")\n",
    "plt.scatter(boxoff_rev,movie_rating)\n",
    "plt.plot(boxoff_rev,regress_values,color='red')\n",
    "plt.xlabel('Movie Revenue in 100 Million Dollars')\n",
    "plt.ylabel('Movie Rating')\n",
    "plt.annotate(line_eq,(2,8.8),fontsize=14,color='red')\n",
    "plt.title('Movie Revenue vs Rating Linear Regression')\n",
    "\n",
    "print(f\"The r-squared is: {rvalue}\")\n",
    "print(\"The regression shows a negative correlation.\")\n",
    "print(\"Movie's revenue has no correlation to its ratings.\")\n",
    "plt.show()"
   ]
  },
  {
   "cell_type": "code",
   "execution_count": 25,
   "metadata": {},
   "outputs": [
    {
     "name": "stdout",
     "output_type": "stream",
     "text": [
      "The correlation between both factors is 0.36\n"
     ]
    }
   ],
   "source": [
    "# Check if movie revenue and count of votes are correlated:\n",
    "boxoff_rev = movies_data_df.iloc[:,5]\n",
    "votes_count = movies_data_df.iloc[:,4]\n",
    "correlation = st.pearsonr(boxoff_rev, votes_count)\n",
    "print(f\"The correlation between both factors is {round(correlation[0],2)}\")"
   ]
  },
  {
   "cell_type": "code",
   "execution_count": 26,
   "metadata": {},
   "outputs": [
    {
     "name": "stdout",
     "output_type": "stream",
     "text": [
      "The value of pearson correlation is less than 0.5 which indicates weak correlation between movie's revenue and its votes counts.\n"
     ]
    }
   ],
   "source": [
    "# Movie Revenue vs Count of Votes the movie received analysis:\n",
    "print(f\"The value of pearson correlation is less than 0.5 which indicates weak correlation between movie's revenue and its votes counts.\")"
   ]
  },
  {
   "cell_type": "code",
   "execution_count": 27,
   "metadata": {},
   "outputs": [
    {
     "name": "stdout",
     "output_type": "stream",
     "text": [
      "The correlation between both factors is 0.36\n"
     ]
    },
    {
     "data": {
      "image/png": "[encoded data removed]",
      "text/plain": [
       "<Figure size 432x288 with 1 Axes>"
      ]
     },
     "metadata": {
      "needs_background": "light"
     },
     "output_type": "display_data"
    }
   ],
   "source": [
    "# Compare the calcualted Pearson's r to the plots\n",
    "plt.scatter(boxoff_rev,votes_count)\n",
    "plt.xlabel('Movie Revenue in 100 Million Dollars')\n",
    "plt.ylabel('Count of Votes in millions')\n",
    "print(f\"The correlation between both factors is {round(correlation[0],2)}\")\n",
    "plt.show()"
   ]
  },
  {
   "cell_type": "code",
   "execution_count": 28,
   "metadata": {},
   "outputs": [
    {
     "name": "stdout",
     "output_type": "stream",
     "text": [
      "Regression line equation is: y = 0.0 x + 1872343.44\n",
      "The r-squared is: 0.3572601272723249\n",
      "The regression shows a positive correlation.\n",
      "Movie's revenue increases with count of votes that it receives.\n"
     ]
    },
    {
     "data": {
      "image/png": "[encoded data removed]",
      "text/plain": [
       "<Figure size 432x288 with 1 Axes>"
      ]
     },
     "metadata": {
      "needs_background": "light"
     },
     "output_type": "display_data"
    }
   ],
   "source": [
    "# Linear regression on Movie Revenue vs Count of Votes\n",
    "(slope, intercept, rvalue, pvalue, stderr) = linregress(boxoff_rev, votes_count)\n",
    "regress_values = boxoff_rev * slope + intercept\n",
    "line_eq = f\"y = {str(round(slope,2))} x + {str(round(intercept,2))}\"\n",
    "print(f\"Regression line equation is: {line_eq}\")\n",
    "plt.scatter(boxoff_rev,votes_count)\n",
    "plt.plot(boxoff_rev,regress_values,color='red')\n",
    "plt.xlabel('Movie Revenue in 100 Million Dollars')\n",
    "plt.ylabel('Count of Votes')\n",
    "plt.annotate(line_eq,(2,2.2),fontsize=14,color='red')\n",
    "plt.title('Movie Revenue vs Count of Votes Linear Regression')\n",
    "\n",
    "print(f\"The r-squared is: {rvalue}\")\n",
    "print(\"The regression shows a positive correlation.\")\n",
    "print(\"Movie's revenue increases with count of votes that it receives.\")\n",
    "plt.show()"
   ]
  }
 ],
 "metadata": {
  "kernelspec": {
   "display_name": "Python 3",
   "language": "python",
   "name": "python3"
  },
  "language_info": {
   "codemirror_mode": {
    "name": "ipython",
    "version": 3
   },
   "file_extension": ".py",
   "mimetype": "text/x-python",
   "name": "python",
   "nbconvert_exporter": "python",
   "pygments_lexer": "ipython3",
   "version": "3.7.7"
  },
  "varInspector": {
   "cols": {
    "lenName": 16,
    "lenType": 16,
    "lenVar": 40
   },
   "kernels_config": {
    "python": {
     "delete_cmd_postfix": "",
     "delete_cmd_prefix": "del ",
     "library": "var_list.py",
     "varRefreshCmd": "print(var_dic_list())"
    },
    "r": {
     "delete_cmd_postfix": ") ",
     "delete_cmd_prefix": "rm(",
     "library": "var_list.r",
     "varRefreshCmd": "cat(var_dic_list()) "
    }
   },
   "types_to_exclude": [
    "module",
    "function",
    "builtin_function_or_method",
    "instance",
    "_Feature"
   ],
   "window_display": false
  }
 },
 "nbformat": 4,
 "nbformat_minor": 2
}
