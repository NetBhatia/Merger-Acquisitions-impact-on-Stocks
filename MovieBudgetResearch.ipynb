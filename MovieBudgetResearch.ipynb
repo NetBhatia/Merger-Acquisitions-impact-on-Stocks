{
 "cells": [
  {
   "cell_type": "code",
   "execution_count": 1,
   "metadata": {
    "collapsed": true
   },
   "outputs": [],
   "source": [
    "# Dependencies\n",
    "import json\n",
    "import csv\n",
    "import os\n",
    "import matplotlib.pyplot as plt\n",
    "import pandas as pd\n",
    "import numpy as np\n",
    "import requests\n",
    "import time\n",
    "import datetime\n",
    "from scipy.stats import linregress\n",
    "import requests\n",
    "from api_keys import omdb_api_key\n",
    "from omdbapi.movie_search import GetMovie\n"
   ]
  },
  {
   "cell_type": "code",
   "execution_count": 3,
   "metadata": {},
   "outputs": [],
   "source": [
    "# Create path\n",
    "movie = GetMovie(api_key=omdb_api_key)\n"
   ]
  },
  {
   "cell_type": "code",
   "execution_count": 9,
   "metadata": {},
   "outputs": [],
   "source": [
    "# Create Movies List\n",
    "\n",
    "movie_list = [\"The Shawshank Redemption\", \"The Godfather\", 'Pulp Fiction',\n",
    "'The Dark Knight',\"Schindler's List\",'Forrest Gump','The Matrix',\n",
    "'Inception','The Lord of the Rings: The Return of the King','The Silence of the Lambs']\n"
   ]
  },
  {
   "cell_type": "code",
   "execution_count": 10,
   "metadata": {
    "scrolled": true
   },
   "outputs": [
    {
     "name": "stdout",
     "output_type": "stream",
     "text": [
      "movie not found\n",
      "movie not found\n",
      "movie not found\n",
      "movie not found\n",
      "movie not found\n",
      "movie not found\n",
      "movie not found\n",
      "movie not found\n",
      "movie not found\n",
      "movie not found\n"
     ]
    },
    {
     "data": {
      "text/html": [
       "<div>\n",
       "<style scoped>\n",
       "    .dataframe tbody tr th:only-of-type {\n",
       "        vertical-align: middle;\n",
       "    }\n",
       "\n",
       "    .dataframe tbody tr th {\n",
       "        vertical-align: top;\n",
       "    }\n",
       "\n",
       "    .dataframe thead th {\n",
       "        text-align: right;\n",
       "    }\n",
       "</style>\n",
       "<table border=\"1\" class=\"dataframe\">\n",
       "  <thead>\n",
       "    <tr style=\"text-align: right;\">\n",
       "      <th></th>\n",
       "      <th>title</th>\n",
       "      <th>year</th>\n",
       "      <th>rated</th>\n",
       "      <th>released</th>\n",
       "      <th>runtime</th>\n",
       "      <th>genre</th>\n",
       "      <th>director</th>\n",
       "      <th>writer</th>\n",
       "      <th>actors</th>\n",
       "      <th>plot</th>\n",
       "      <th>...</th>\n",
       "      <th>ratings</th>\n",
       "      <th>metascore</th>\n",
       "      <th>imdbrating</th>\n",
       "      <th>imdbvotes</th>\n",
       "      <th>imdbid</th>\n",
       "      <th>type</th>\n",
       "      <th>dvd</th>\n",
       "      <th>boxoffice</th>\n",
       "      <th>production</th>\n",
       "      <th>website</th>\n",
       "    </tr>\n",
       "  </thead>\n",
       "  <tbody>\n",
       "    <tr>\n",
       "      <th>0</th>\n",
       "      <td>The Silence of the Lambs</td>\n",
       "      <td>1991</td>\n",
       "      <td>R</td>\n",
       "      <td>14 Feb 1991</td>\n",
       "      <td>118 min</td>\n",
       "      <td>Crime, Drama, Thriller</td>\n",
       "      <td>Jonathan Demme</td>\n",
       "      <td>Thomas Harris, Ted Tally</td>\n",
       "      <td>Jodie Foster, Anthony Hopkins, Lawrence A. Bonney</td>\n",
       "      <td>A young F.B.I. cadet must receive the help of ...</td>\n",
       "      <td>...</td>\n",
       "      <td>{'Source': 'Internet Movie Database', 'Value':...</td>\n",
       "      <td>86</td>\n",
       "      <td>8.6</td>\n",
       "      <td>1,490,803</td>\n",
       "      <td>tt0102926</td>\n",
       "      <td>movie</td>\n",
       "      <td>27 Aug 2015</td>\n",
       "      <td>$130,742,922</td>\n",
       "      <td>N/A</td>\n",
       "      <td>N/A</td>\n",
       "    </tr>\n",
       "    <tr>\n",
       "      <th>1</th>\n",
       "      <td>The Silence of the Lambs</td>\n",
       "      <td>1991</td>\n",
       "      <td>R</td>\n",
       "      <td>14 Feb 1991</td>\n",
       "      <td>118 min</td>\n",
       "      <td>Crime, Drama, Thriller</td>\n",
       "      <td>Jonathan Demme</td>\n",
       "      <td>Thomas Harris, Ted Tally</td>\n",
       "      <td>Jodie Foster, Anthony Hopkins, Lawrence A. Bonney</td>\n",
       "      <td>A young F.B.I. cadet must receive the help of ...</td>\n",
       "      <td>...</td>\n",
       "      <td>{'Source': 'Rotten Tomatoes', 'Value': '95%'}</td>\n",
       "      <td>86</td>\n",
       "      <td>8.6</td>\n",
       "      <td>1,490,803</td>\n",
       "      <td>tt0102926</td>\n",
       "      <td>movie</td>\n",
       "      <td>27 Aug 2015</td>\n",
       "      <td>$130,742,922</td>\n",
       "      <td>N/A</td>\n",
       "      <td>N/A</td>\n",
       "    </tr>\n",
       "    <tr>\n",
       "      <th>2</th>\n",
       "      <td>The Silence of the Lambs</td>\n",
       "      <td>1991</td>\n",
       "      <td>R</td>\n",
       "      <td>14 Feb 1991</td>\n",
       "      <td>118 min</td>\n",
       "      <td>Crime, Drama, Thriller</td>\n",
       "      <td>Jonathan Demme</td>\n",
       "      <td>Thomas Harris, Ted Tally</td>\n",
       "      <td>Jodie Foster, Anthony Hopkins, Lawrence A. Bonney</td>\n",
       "      <td>A young F.B.I. cadet must receive the help of ...</td>\n",
       "      <td>...</td>\n",
       "      <td>{'Source': 'Metacritic', 'Value': '86/100'}</td>\n",
       "      <td>86</td>\n",
       "      <td>8.6</td>\n",
       "      <td>1,490,803</td>\n",
       "      <td>tt0102926</td>\n",
       "      <td>movie</td>\n",
       "      <td>27 Aug 2015</td>\n",
       "      <td>$130,742,922</td>\n",
       "      <td>N/A</td>\n",
       "      <td>N/A</td>\n",
       "    </tr>\n",
       "  </tbody>\n",
       "</table>\n",
       "<p>3 rows × 24 columns</p>\n",
       "</div>"
      ],
      "text/plain": [
       "                      title  year rated     released  runtime  \\\n",
       "0  The Silence of the Lambs  1991     R  14 Feb 1991  118 min   \n",
       "1  The Silence of the Lambs  1991     R  14 Feb 1991  118 min   \n",
       "2  The Silence of the Lambs  1991     R  14 Feb 1991  118 min   \n",
       "\n",
       "                    genre        director                    writer  \\\n",
       "0  Crime, Drama, Thriller  Jonathan Demme  Thomas Harris, Ted Tally   \n",
       "1  Crime, Drama, Thriller  Jonathan Demme  Thomas Harris, Ted Tally   \n",
       "2  Crime, Drama, Thriller  Jonathan Demme  Thomas Harris, Ted Tally   \n",
       "\n",
       "                                              actors  \\\n",
       "0  Jodie Foster, Anthony Hopkins, Lawrence A. Bonney   \n",
       "1  Jodie Foster, Anthony Hopkins, Lawrence A. Bonney   \n",
       "2  Jodie Foster, Anthony Hopkins, Lawrence A. Bonney   \n",
       "\n",
       "                                                plot  ...  \\\n",
       "0  A young F.B.I. cadet must receive the help of ...  ...   \n",
       "1  A young F.B.I. cadet must receive the help of ...  ...   \n",
       "2  A young F.B.I. cadet must receive the help of ...  ...   \n",
       "\n",
       "                                             ratings metascore imdbrating  \\\n",
       "0  {'Source': 'Internet Movie Database', 'Value':...        86        8.6   \n",
       "1      {'Source': 'Rotten Tomatoes', 'Value': '95%'}        86        8.6   \n",
       "2        {'Source': 'Metacritic', 'Value': '86/100'}        86        8.6   \n",
       "\n",
       "   imdbvotes     imdbid   type          dvd     boxoffice production website  \n",
       "0  1,490,803  tt0102926  movie  27 Aug 2015  $130,742,922        N/A     N/A  \n",
       "1  1,490,803  tt0102926  movie  27 Aug 2015  $130,742,922        N/A     N/A  \n",
       "2  1,490,803  tt0102926  movie  27 Aug 2015  $130,742,922        N/A     N/A  \n",
       "\n",
       "[3 rows x 24 columns]"
      ]
     },
     "execution_count": 10,
     "metadata": {},
     "output_type": "execute_result"
    }
   ],
   "source": [
    "# Get movie details\n",
    "for mov in movie_list:\n",
    "    try:\n",
    "        movinfo = movie.get_movie(title=mov)\n",
    "        movinfo_df = pd.DataFrame(movinfo).append()\n",
    "\n",
    "    except:\n",
    "        print(\"movie not found\")\n",
    "    pass\n",
    "\n",
    "movinfo_df"
   ]
  },
  {
   "cell_type": "code",
   "execution_count": 4,
   "metadata": {},
   "outputs": [
    {
     "name": "stdout",
     "output_type": "stream",
     "text": [
      "The movie 50 First Dates was released in 2004.\n"
     ]
    }
   ],
   "source": [
    "# What year was 50 First Dates released?\n",
    "movie = requests.get(url + \"50 First Dates\").json()\n",
    "print(f'The movie 50 First Dates was released in {movie[\"Year\"]}.')"
   ]
  },
  {
   "cell_type": "code",
   "execution_count": 5,
   "metadata": {
    "scrolled": true
   },
   "outputs": [
    {
     "name": "stdout",
     "output_type": "stream",
     "text": [
      "Moana was written by Jared Bush (screenplay by), Ron Clements (story by), John Musker (story by), Chris Williams (story by), Don Hall (story by), Pamela Ribon (story by), Aaron Kandell (story by), Jordan Kandell (story by).\n"
     ]
    }
   ],
   "source": [
    "# Who wrote Moana?\n",
    "movie = requests.get(url + \"Moana\").json()\n",
    "print(f'Moana was written by {movie[\"Writer\"]}.')"
   ]
  },
  {
   "cell_type": "code",
   "execution_count": 6,
   "metadata": {
    "scrolled": true
   },
   "outputs": [
    {
     "name": "stdout",
     "output_type": "stream",
     "text": [
      "The plot of Sing was: In a city of humanoid animals, a hustling theater impresario's attempt to save his theater with a singing competition becomes grander than he anticipates even as its finalists' find that their lives will never be the same.\n"
     ]
    }
   ],
   "source": [
    "# What was the plot of the movie Sing?\n",
    "movie = requests.get(url + \"Sing\").json()\n",
    "print(f'The plot of Sing was: {movie[\"Plot\"]}')"
   ]
  }
 ],
 "metadata": {
  "kernelspec": {
   "display_name": "Python 3",
   "language": "python",
   "name": "python3"
  },
  "language_info": {
   "codemirror_mode": {
    "name": "ipython",
    "version": 3
   },
   "file_extension": ".py",
   "mimetype": "text/x-python",
   "name": "python",
   "nbconvert_exporter": "python",
   "pygments_lexer": "ipython3",
   "version": "3.7.7"
  },
  "varInspector": {
   "cols": {
    "lenName": 16,
    "lenType": 16,
    "lenVar": 40
   },
   "kernels_config": {
    "python": {
     "delete_cmd_postfix": "",
     "delete_cmd_prefix": "del ",
     "library": "var_list.py",
     "varRefreshCmd": "print(var_dic_list())"
    },
    "r": {
     "delete_cmd_postfix": ") ",
     "delete_cmd_prefix": "rm(",
     "library": "var_list.r",
     "varRefreshCmd": "cat(var_dic_list()) "
    }
   },
   "types_to_exclude": [
    "module",
    "function",
    "builtin_function_or_method",
    "instance",
    "_Feature"
   ],
   "window_display": false
  }
 },
 "nbformat": 4,
 "nbformat_minor": 2
}
