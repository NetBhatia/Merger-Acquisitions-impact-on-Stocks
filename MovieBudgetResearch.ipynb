{
 "cells": [
  {
   "cell_type": "code",
   "execution_count": 1,
   "metadata": {
    "collapsed": true
   },
   "outputs": [],
   "source": [
    "# Dependencies\n",
    "import json\n",
    "import csv\n",
    "import os\n",
    "import matplotlib.pyplot as plt\n",
    "import scipy.stats as st\n",
    "import pandas as pd\n",
    "import numpy as np\n",
    "import requests\n",
    "import time\n",
    "import datetime\n",
    "import warnings\n",
    "warnings.filterwarnings('ignore')\n",
    "from scipy.stats import linregress\n",
    "import requests\n",
    "from api_keys import omdb_api_key\n",
    "from omdbapi.movie_search import GetMovie\n"
   ]
  },
  {
   "cell_type": "code",
   "execution_count": 2,
   "metadata": {},
   "outputs": [],
   "source": [
    "# Create path to obtain movie information from OMDB API\n",
    "movie = GetMovie(api_key=omdb_api_key)\n"
   ]
  },
  {
   "cell_type": "code",
   "execution_count": 3,
   "metadata": {},
   "outputs": [],
   "source": [
    "# Create Movies List that we want to sample for the purpose of performing the analysis:\n",
    "\n",
    "movie_list = [\"The Shawshank Redemption\", \"The Godfather\", 'Pulp Fiction', 'The Dark Knight',\"Schindler's List\",'Forrest Gump',\n",
    "              'The Matrix', 'Inception','The Lord of the Rings: The Return of the King','The Silence of the Lambs', 'Goodfellas',\n",
    "              'Rogue One: A Star Wars Story', 'Reservoir Dogs', 'The Usual Suspects', 'Pig', 'The Grand Budapest Hotel',\n",
    "              'The Mummy', 'Lightyear', 'Thor: Ragnarok', 'Man of Steel', 'Drive', 'The Crow','Margin Call','Donnie Darko',\n",
    "              '10 Things I Hate About You','Sicario','Dark Water','A League of Their Own','Antlers','Life',\"The Avengers\",\"The Revenant\",\n",
    "              \"The Grand Budapest Hotel\",\"Shutter Island\",\"No Country for Old Men\",\"The Prestige\",\"Whiplash\",\"Mad Max: Fury Road\",\n",
    "              \"The Social Network\",\"Django Unchained\",\"The Green Mile\",\"Memento\",\"The Intouchables\",\"The Sixth Sense\",\"The Dark Knight Rises\",\n",
    "              \"Blade Runner 2049\",\"La La Land\",\"Fight Club\",\"Gladiator\",\"Interstellar\",\"Braveheart\",\"Jurassic Park\",\"The Departed\",\n",
    "              \"Inglourious Basterds\",\"Casablanca\",\"The Usual Suspects\",\"The Godfather: Part II\",\"The Good, the Bad and the Ugly\",\n",
    "              \"Raiders of the Lost Ark\",\"One Flew Over the Cuckoo's Nest\",\"Star Wars: Episode IV - A New Hope\",\"The Empire Strikes Back\",\n",
    "              \"Return of the Jedi\",\"Eternal Sunshine of the Spotless Mind\",\"In Bruges\", \"I Am Legend\", \"28 Days Later\", \"Army of Darkness\", \n",
    "              \"Oppenheimer\", \"The Lion King\",\"Joker\", \"Indiana Jones and the Raiders of the Lost Ark\", \"Oldboy\", \"Avengers: Endgame\", \"Amadeus\"]\n",
    "\n",
    "movies_data = []"
   ]
  },
  {
   "cell_type": "code",
   "execution_count": 4,
   "metadata": {
    "scrolled": true
   },
   "outputs": [],
   "source": [
    "# Get movie details for all movies using a for loop function:\n",
    "for movi in movie_list:\n",
    "    try:\n",
    "        movinfo = movie.get_movie(title=movi)\n",
    "\n",
    "        # Fetch required information for the movies:\n",
    "        movi_title = movinfo[\"title\"]\n",
    "        rel_year = movinfo[\"year\"]\n",
    "        movi_genre = movinfo[\"genre\"]\n",
    "        movi_rating = movinfo[\"imdbrating\"]\n",
    "        movi_votes = movinfo[\"imdbvotes\"]\n",
    "        movi_reven = movinfo[\"boxoffice\"]\n",
    "\n",
    "         # Append the City information into city_data list\n",
    "        movies_data.append({\"Title\": movi_title, \n",
    "                          \"Release Year\": rel_year, \n",
    "                          \"Genre\": movi_genre, \n",
    "                          \"Rating\": movi_rating,\n",
    "                          \"Count of Votes\": movi_votes,\n",
    "                          \"Box Office Revenue\": movi_reven})\n",
    "\n",
    "     # If an error is experienced, skip the movie\n",
    "\n",
    "    except:\n",
    "        print(\"movie not found\")\n",
    "    pass"
   ]
  },
  {
   "cell_type": "code",
   "execution_count": 5,
   "metadata": {},
   "outputs": [
    {
     "data": {
      "text/plain": [
       "Title                 75\n",
       "Release Year          75\n",
       "Genre                 75\n",
       "Rating                75\n",
       "Count of Votes        75\n",
       "Box Office Revenue    75\n",
       "dtype: int64"
      ]
     },
     "execution_count": 5,
     "metadata": {},
     "output_type": "execute_result"
    }
   ],
   "source": [
    "# Convert the movies data into a Pandas DataFrame\n",
    "movies_data_df = pd.DataFrame(movies_data)\n",
    "\n",
    "# Show Record Count\n",
    "movies_data_df.count()"
   ]
  },
  {
   "cell_type": "code",
   "execution_count": 6,
   "metadata": {},
   "outputs": [
    {
     "data": {
      "text/html": [
       "<div>\n",
       "<style scoped>\n",
       "    .dataframe tbody tr th:only-of-type {\n",
       "        vertical-align: middle;\n",
       "    }\n",
       "\n",
       "    .dataframe tbody tr th {\n",
       "        vertical-align: top;\n",
       "    }\n",
       "\n",
       "    .dataframe thead th {\n",
       "        text-align: right;\n",
       "    }\n",
       "</style>\n",
       "<table border=\"1\" class=\"dataframe\">\n",
       "  <thead>\n",
       "    <tr style=\"text-align: right;\">\n",
       "      <th></th>\n",
       "      <th>Title</th>\n",
       "      <th>Release Year</th>\n",
       "      <th>Genre</th>\n",
       "      <th>Rating</th>\n",
       "      <th>Count of Votes</th>\n",
       "      <th>Box Office Revenue</th>\n",
       "    </tr>\n",
       "  </thead>\n",
       "  <tbody>\n",
       "    <tr>\n",
       "      <th>0</th>\n",
       "      <td>The Shawshank Redemption</td>\n",
       "      <td>1994</td>\n",
       "      <td>Drama</td>\n",
       "      <td>9.3</td>\n",
       "      <td>2,790,043</td>\n",
       "      <td>$28,767,189</td>\n",
       "    </tr>\n",
       "    <tr>\n",
       "      <th>1</th>\n",
       "      <td>The Godfather</td>\n",
       "      <td>1972</td>\n",
       "      <td>Crime, Drama</td>\n",
       "      <td>9.2</td>\n",
       "      <td>1,945,639</td>\n",
       "      <td>$136,381,073</td>\n",
       "    </tr>\n",
       "    <tr>\n",
       "      <th>2</th>\n",
       "      <td>Pulp Fiction</td>\n",
       "      <td>1994</td>\n",
       "      <td>Crime, Drama</td>\n",
       "      <td>8.9</td>\n",
       "      <td>2,142,709</td>\n",
       "      <td>$107,928,762</td>\n",
       "    </tr>\n",
       "    <tr>\n",
       "      <th>3</th>\n",
       "      <td>The Dark Knight</td>\n",
       "      <td>2008</td>\n",
       "      <td>Action, Crime, Drama</td>\n",
       "      <td>9.0</td>\n",
       "      <td>2,774,186</td>\n",
       "      <td>$534,987,076</td>\n",
       "    </tr>\n",
       "    <tr>\n",
       "      <th>4</th>\n",
       "      <td>Schindler's List</td>\n",
       "      <td>1993</td>\n",
       "      <td>Biography, Drama, History</td>\n",
       "      <td>9.0</td>\n",
       "      <td>1,404,593</td>\n",
       "      <td>$96,898,818</td>\n",
       "    </tr>\n",
       "    <tr>\n",
       "      <th>...</th>\n",
       "      <td>...</td>\n",
       "      <td>...</td>\n",
       "      <td>...</td>\n",
       "      <td>...</td>\n",
       "      <td>...</td>\n",
       "      <td>...</td>\n",
       "    </tr>\n",
       "    <tr>\n",
       "      <th>70</th>\n",
       "      <td>Joker</td>\n",
       "      <td>2019</td>\n",
       "      <td>Crime, Drama, Thriller</td>\n",
       "      <td>8.4</td>\n",
       "      <td>1,392,643</td>\n",
       "      <td>$335,477,657</td>\n",
       "    </tr>\n",
       "    <tr>\n",
       "      <th>71</th>\n",
       "      <td>Indiana Jones and the Raiders of the Lost Ark</td>\n",
       "      <td>1981</td>\n",
       "      <td>Action, Adventure</td>\n",
       "      <td>8.4</td>\n",
       "      <td>1,011,175</td>\n",
       "      <td>$248,159,971</td>\n",
       "    </tr>\n",
       "    <tr>\n",
       "      <th>72</th>\n",
       "      <td>Oldboy</td>\n",
       "      <td>2003</td>\n",
       "      <td>Action, Drama, Mystery</td>\n",
       "      <td>8.4</td>\n",
       "      <td>608,751</td>\n",
       "      <td>$2,338,699</td>\n",
       "    </tr>\n",
       "    <tr>\n",
       "      <th>73</th>\n",
       "      <td>Avengers: Endgame</td>\n",
       "      <td>2019</td>\n",
       "      <td>Action, Adventure, Drama</td>\n",
       "      <td>8.4</td>\n",
       "      <td>1,210,961</td>\n",
       "      <td>$858,373,000</td>\n",
       "    </tr>\n",
       "    <tr>\n",
       "      <th>74</th>\n",
       "      <td>Amadeus</td>\n",
       "      <td>1984</td>\n",
       "      <td>Biography, Drama, Music</td>\n",
       "      <td>8.4</td>\n",
       "      <td>414,434</td>\n",
       "      <td>$51,973,029</td>\n",
       "    </tr>\n",
       "  </tbody>\n",
       "</table>\n",
       "<p>75 rows × 6 columns</p>\n",
       "</div>"
      ],
      "text/plain": [
       "                                            Title Release Year  \\\n",
       "0                        The Shawshank Redemption         1994   \n",
       "1                                   The Godfather         1972   \n",
       "2                                    Pulp Fiction         1994   \n",
       "3                                 The Dark Knight         2008   \n",
       "4                                Schindler's List         1993   \n",
       "..                                            ...          ...   \n",
       "70                                          Joker         2019   \n",
       "71  Indiana Jones and the Raiders of the Lost Ark         1981   \n",
       "72                                         Oldboy         2003   \n",
       "73                              Avengers: Endgame         2019   \n",
       "74                                        Amadeus         1984   \n",
       "\n",
       "                        Genre Rating Count of Votes Box Office Revenue  \n",
       "0                       Drama    9.3      2,790,043        $28,767,189  \n",
       "1                Crime, Drama    9.2      1,945,639       $136,381,073  \n",
       "2                Crime, Drama    8.9      2,142,709       $107,928,762  \n",
       "3        Action, Crime, Drama    9.0      2,774,186       $534,987,076  \n",
       "4   Biography, Drama, History    9.0      1,404,593        $96,898,818  \n",
       "..                        ...    ...            ...                ...  \n",
       "70     Crime, Drama, Thriller    8.4      1,392,643       $335,477,657  \n",
       "71          Action, Adventure    8.4      1,011,175       $248,159,971  \n",
       "72     Action, Drama, Mystery    8.4        608,751         $2,338,699  \n",
       "73   Action, Adventure, Drama    8.4      1,210,961       $858,373,000  \n",
       "74    Biography, Drama, Music    8.4        414,434        $51,973,029  \n",
       "\n",
       "[75 rows x 6 columns]"
      ]
     },
     "execution_count": 6,
     "metadata": {},
     "output_type": "execute_result"
    }
   ],
   "source": [
    "# Show dataframe\n",
    "movies_data_df"
   ]
  },
  {
   "cell_type": "code",
   "execution_count": 7,
   "metadata": {},
   "outputs": [
    {
     "data": {
      "text/plain": [
       "0    2,790,043\n",
       "1    1,945,639\n",
       "2    2,142,709\n",
       "3    2,774,186\n",
       "4    1,404,593\n",
       "Name: Count of Votes, dtype: object"
      ]
     },
     "execution_count": 7,
     "metadata": {},
     "output_type": "execute_result"
    }
   ],
   "source": [
    "# Get datatype of Count of Votes column:\n",
    "movies_data_df[\"Count of Votes\"].head()"
   ]
  },
  {
   "cell_type": "code",
   "execution_count": 8,
   "metadata": {},
   "outputs": [
    {
     "data": {
      "text/plain": [
       "0    2790043\n",
       "1    1945639\n",
       "2    2142709\n",
       "3    2774186\n",
       "4    1404593\n",
       "Name: Count of Votes, dtype: int64"
      ]
     },
     "execution_count": 8,
     "metadata": {},
     "output_type": "execute_result"
    }
   ],
   "source": [
    "# Convert Count of Votes to numeric:\n",
    "movies_data_df[\"Count of Votes\"]=pd.to_numeric(movies_data_df[\"Count of Votes\"].str.replace(',',''), errors='coerce')\n",
    "movies_data_df[\"Count of Votes\"].head()"
   ]
  },
  {
   "cell_type": "code",
   "execution_count": 9,
   "metadata": {},
   "outputs": [
    {
     "name": "stdout",
     "output_type": "stream",
     "text": [
      "Average count of votes per movie is 1063011.0\n"
     ]
    }
   ],
   "source": [
    "# Calculate the average (mean) count of votes:\n",
    "average_vote_count = round(movies_data_df[\"Count of Votes\"].mean(),0)\n",
    "print(f\"Average count of votes per movie is {average_vote_count}\")"
   ]
  },
  {
   "cell_type": "code",
   "execution_count": 10,
   "metadata": {},
   "outputs": [
    {
     "data": {
      "text/plain": [
       "0     28767189\n",
       "1    136381073\n",
       "2    107928762\n",
       "3    534987076\n",
       "4     96898818\n",
       "Name: Box Office Revenue, dtype: int32"
      ]
     },
     "execution_count": 10,
     "metadata": {},
     "output_type": "execute_result"
    }
   ],
   "source": [
    "# Get Box Office Revenue data type:\n",
    "movies_data_df[\"Box Office Revenue\"] = movies_data_df['Box Office Revenue'].str.replace('$', '').str.replace(',', '').astype(int)\n",
    "movies_data_df[\"Box Office Revenue\"].head()"
   ]
  },
  {
   "cell_type": "code",
   "execution_count": 11,
   "metadata": {},
   "outputs": [
    {
     "name": "stdout",
     "output_type": "stream",
     "text": [
      "Average revenue per movie is 160930730.48\n"
     ]
    }
   ],
   "source": [
    "# Calculate the average (mean) revenue:\n",
    "average_revenue = round(movies_data_df[\"Box Office Revenue\"].mean(),2)\n",
    "print(f\"Average revenue per movie is {average_revenue}\")"
   ]
  },
  {
   "cell_type": "code",
   "execution_count": 12,
   "metadata": {
    "scrolled": true
   },
   "outputs": [
    {
     "name": "stdout",
     "output_type": "stream",
     "text": [
      "Average rating is 8.0\n"
     ]
    }
   ],
   "source": [
    "# Calculate the average of ratings:\n",
    "movies_data_df[\"Rating\"]=pd.to_numeric(movies_data_df[\"Rating\"])\n",
    "average_rating = round(movies_data_df[\"Rating\"].mean(),0)\n",
    "print(f\"Average rating is {average_rating}\")"
   ]
  },
  {
   "cell_type": "code",
   "execution_count": 13,
   "metadata": {
    "scrolled": true
   },
   "outputs": [
    {
     "name": "stdout",
     "output_type": "stream",
     "text": [
      "From the dataset, we see that a movie with a rating of 8.0 and 1063011.0 votes earns a revenue of about $160930730.48\n"
     ]
    }
   ],
   "source": [
    "# Print average revenue analysis based on count of votes and ratings\n",
    "print(f\"From the dataset, we see that a movie with a rating of {average_rating} and {average_vote_count} votes earns a revenue of about ${average_revenue}\")"
   ]
  },
  {
   "cell_type": "code",
   "execution_count": 14,
   "metadata": {},
   "outputs": [
    {
     "data": {
      "text/html": [
       "<div>\n",
       "<style scoped>\n",
       "    .dataframe tbody tr th:only-of-type {\n",
       "        vertical-align: middle;\n",
       "    }\n",
       "\n",
       "    .dataframe tbody tr th {\n",
       "        vertical-align: top;\n",
       "    }\n",
       "\n",
       "    .dataframe thead th {\n",
       "        text-align: right;\n",
       "    }\n",
       "</style>\n",
       "<table border=\"1\" class=\"dataframe\">\n",
       "  <thead>\n",
       "    <tr style=\"text-align: right;\">\n",
       "      <th></th>\n",
       "      <th>Box Office Revenue</th>\n",
       "    </tr>\n",
       "    <tr>\n",
       "      <th>Genre</th>\n",
       "      <th></th>\n",
       "    </tr>\n",
       "  </thead>\n",
       "  <tbody>\n",
       "    <tr>\n",
       "      <th>Action, Drama, Thriller</th>\n",
       "      <td>4.481496e+08</td>\n",
       "    </tr>\n",
       "    <tr>\n",
       "      <th>Animation, Adventure, Drama</th>\n",
       "      <td>4.227838e+08</td>\n",
       "    </tr>\n",
       "    <tr>\n",
       "      <th>Action, Adventure, Drama</th>\n",
       "      <td>4.022859e+08</td>\n",
       "    </tr>\n",
       "    <tr>\n",
       "      <th>Action, Sci-Fi</th>\n",
       "      <td>3.977174e+08</td>\n",
       "    </tr>\n",
       "    <tr>\n",
       "      <th>Action, Adventure, Sci-Fi</th>\n",
       "      <td>3.357276e+08</td>\n",
       "    </tr>\n",
       "    <tr>\n",
       "      <th>Drama, Romance</th>\n",
       "      <td>3.304553e+08</td>\n",
       "    </tr>\n",
       "    <tr>\n",
       "      <th>Action, Adventure, Comedy</th>\n",
       "      <td>3.150583e+08</td>\n",
       "    </tr>\n",
       "    <tr>\n",
       "      <th>Action, Adventure, Fantasy</th>\n",
       "      <td>3.064260e+08</td>\n",
       "    </tr>\n",
       "    <tr>\n",
       "      <th>Drama, Mystery, Thriller</th>\n",
       "      <td>2.935063e+08</td>\n",
       "    </tr>\n",
       "    <tr>\n",
       "      <th>Action, Drama, Horror</th>\n",
       "      <td>2.563930e+08</td>\n",
       "    </tr>\n",
       "    <tr>\n",
       "      <th>Action, Adventure</th>\n",
       "      <td>2.481600e+08</td>\n",
       "    </tr>\n",
       "    <tr>\n",
       "      <th>Action, Crime, Drama</th>\n",
       "      <td>2.108565e+08</td>\n",
       "    </tr>\n",
       "    <tr>\n",
       "      <th>Adventure, Drama, Sci-Fi</th>\n",
       "      <td>1.880200e+08</td>\n",
       "    </tr>\n",
       "    <tr>\n",
       "      <th>Crime, Drama, Thriller</th>\n",
       "      <td>1.682259e+08</td>\n",
       "    </tr>\n",
       "    <tr>\n",
       "      <th>Drama, Western</th>\n",
       "      <td>1.628054e+08</td>\n",
       "    </tr>\n",
       "    <tr>\n",
       "      <th>Biography, Drama, History</th>\n",
       "      <td>1.582415e+08</td>\n",
       "    </tr>\n",
       "    <tr>\n",
       "      <th>Comedy, Drama, Music</th>\n",
       "      <td>1.511018e+08</td>\n",
       "    </tr>\n",
       "    <tr>\n",
       "      <th>Crime, Drama, Fantasy</th>\n",
       "      <td>1.368014e+08</td>\n",
       "    </tr>\n",
       "    <tr>\n",
       "      <th>Adventure, Drama, War</th>\n",
       "      <td>1.205407e+08</td>\n",
       "    </tr>\n",
       "    <tr>\n",
       "      <th>Animation, Action, Adventure</th>\n",
       "      <td>1.183072e+08</td>\n",
       "    </tr>\n",
       "    <tr>\n",
       "      <th>Comedy, Drama, Sport</th>\n",
       "      <td>1.075339e+08</td>\n",
       "    </tr>\n",
       "    <tr>\n",
       "      <th>Crime, Drama</th>\n",
       "      <td>9.738148e+07</td>\n",
       "    </tr>\n",
       "    <tr>\n",
       "      <th>Biography, Drama</th>\n",
       "      <td>9.696269e+07</td>\n",
       "    </tr>\n",
       "    <tr>\n",
       "      <th>Mystery, Thriller</th>\n",
       "      <td>7.677890e+07</td>\n",
       "    </tr>\n",
       "    <tr>\n",
       "      <th>Adventure, Comedy, Crime</th>\n",
       "      <td>5.930132e+07</td>\n",
       "    </tr>\n",
       "    <tr>\n",
       "      <th>Drama</th>\n",
       "      <td>5.825952e+07</td>\n",
       "    </tr>\n",
       "    <tr>\n",
       "      <th>Biography, Drama, Music</th>\n",
       "      <td>5.197303e+07</td>\n",
       "    </tr>\n",
       "    <tr>\n",
       "      <th>Action, Drama, Mystery</th>\n",
       "      <td>4.720519e+07</td>\n",
       "    </tr>\n",
       "    <tr>\n",
       "      <th>Biography, Crime, Drama</th>\n",
       "      <td>4.690972e+07</td>\n",
       "    </tr>\n",
       "    <tr>\n",
       "      <th>Drama, Horror, Sci-Fi</th>\n",
       "      <td>4.506492e+07</td>\n",
       "    </tr>\n",
       "    <tr>\n",
       "      <th>Comedy, Drama, Romance</th>\n",
       "      <td>3.817817e+07</td>\n",
       "    </tr>\n",
       "    <tr>\n",
       "      <th>Action, Drama</th>\n",
       "      <td>3.506156e+07</td>\n",
       "    </tr>\n",
       "    <tr>\n",
       "      <th>Drama, Romance, Sci-Fi</th>\n",
       "      <td>3.440030e+07</td>\n",
       "    </tr>\n",
       "    <tr>\n",
       "      <th>Horror, Sci-Fi, Thriller</th>\n",
       "      <td>3.023402e+07</td>\n",
       "    </tr>\n",
       "    <tr>\n",
       "      <th>Drama, Mystery, Sci-Fi</th>\n",
       "      <td>2.728419e+07</td>\n",
       "    </tr>\n",
       "    <tr>\n",
       "      <th>Adventure, Western</th>\n",
       "      <td>2.510000e+07</td>\n",
       "    </tr>\n",
       "    <tr>\n",
       "      <th>Crime, Drama, Mystery</th>\n",
       "      <td>2.334157e+07</td>\n",
       "    </tr>\n",
       "    <tr>\n",
       "      <th>Drama, Horror, Mystery</th>\n",
       "      <td>1.804651e+07</td>\n",
       "    </tr>\n",
       "    <tr>\n",
       "      <th>Drama, Music</th>\n",
       "      <td>1.309200e+07</td>\n",
       "    </tr>\n",
       "    <tr>\n",
       "      <th>Comedy, Horror</th>\n",
       "      <td>1.150298e+07</td>\n",
       "    </tr>\n",
       "    <tr>\n",
       "      <th>Biography, Comedy, Drama</th>\n",
       "      <td>1.019882e+07</td>\n",
       "    </tr>\n",
       "    <tr>\n",
       "      <th>Comedy, Crime, Drama</th>\n",
       "      <td>7.800824e+06</td>\n",
       "    </tr>\n",
       "    <tr>\n",
       "      <th>Drama, Thriller</th>\n",
       "      <td>5.354039e+06</td>\n",
       "    </tr>\n",
       "    <tr>\n",
       "      <th>Drama, Romance, War</th>\n",
       "      <td>4.219709e+06</td>\n",
       "    </tr>\n",
       "    <tr>\n",
       "      <th>Drama, Mystery</th>\n",
       "      <td>3.186668e+06</td>\n",
       "    </tr>\n",
       "    <tr>\n",
       "      <th>Crime, Thriller</th>\n",
       "      <td>2.832029e+06</td>\n",
       "    </tr>\n",
       "  </tbody>\n",
       "</table>\n",
       "</div>"
      ],
      "text/plain": [
       "                              Box Office Revenue\n",
       "Genre                                           \n",
       "Action, Drama, Thriller             4.481496e+08\n",
       "Animation, Adventure, Drama         4.227838e+08\n",
       "Action, Adventure, Drama            4.022859e+08\n",
       "Action, Sci-Fi                      3.977174e+08\n",
       "Action, Adventure, Sci-Fi           3.357276e+08\n",
       "Drama, Romance                      3.304553e+08\n",
       "Action, Adventure, Comedy           3.150583e+08\n",
       "Action, Adventure, Fantasy          3.064260e+08\n",
       "Drama, Mystery, Thriller            2.935063e+08\n",
       "Action, Drama, Horror               2.563930e+08\n",
       "Action, Adventure                   2.481600e+08\n",
       "Action, Crime, Drama                2.108565e+08\n",
       "Adventure, Drama, Sci-Fi            1.880200e+08\n",
       "Crime, Drama, Thriller              1.682259e+08\n",
       "Drama, Western                      1.628054e+08\n",
       "Biography, Drama, History           1.582415e+08\n",
       "Comedy, Drama, Music                1.511018e+08\n",
       "Crime, Drama, Fantasy               1.368014e+08\n",
       "Adventure, Drama, War               1.205407e+08\n",
       "Animation, Action, Adventure        1.183072e+08\n",
       "Comedy, Drama, Sport                1.075339e+08\n",
       "Crime, Drama                        9.738148e+07\n",
       "Biography, Drama                    9.696269e+07\n",
       "Mystery, Thriller                   7.677890e+07\n",
       "Adventure, Comedy, Crime            5.930132e+07\n",
       "Drama                               5.825952e+07\n",
       "Biography, Drama, Music             5.197303e+07\n",
       "Action, Drama, Mystery              4.720519e+07\n",
       "Biography, Crime, Drama             4.690972e+07\n",
       "Drama, Horror, Sci-Fi               4.506492e+07\n",
       "Comedy, Drama, Romance              3.817817e+07\n",
       "Action, Drama                       3.506156e+07\n",
       "Drama, Romance, Sci-Fi              3.440030e+07\n",
       "Horror, Sci-Fi, Thriller            3.023402e+07\n",
       "Drama, Mystery, Sci-Fi              2.728419e+07\n",
       "Adventure, Western                  2.510000e+07\n",
       "Crime, Drama, Mystery               2.334157e+07\n",
       "Drama, Horror, Mystery              1.804651e+07\n",
       "Drama, Music                        1.309200e+07\n",
       "Comedy, Horror                      1.150298e+07\n",
       "Biography, Comedy, Drama            1.019882e+07\n",
       "Comedy, Crime, Drama                7.800824e+06\n",
       "Drama, Thriller                     5.354039e+06\n",
       "Drama, Romance, War                 4.219709e+06\n",
       "Drama, Mystery                      3.186668e+06\n",
       "Crime, Thriller                     2.832029e+06"
      ]
     },
     "execution_count": 14,
     "metadata": {},
     "output_type": "execute_result"
    }
   ],
   "source": [
    "# Get average Box Office Revenue by Genre category and identify which genre earns the highest revenue:\n",
    "avg_rev_gen = movies_data_df.groupby([\"Genre\"])[\"Box Office Revenue\"].mean()\n",
    "avg_rev_gen_df = pd.DataFrame(avg_rev_gen)\n",
    "\n",
    "avg_rev_gen_df.sort_values(\"Box Office Revenue\", ascending=False)"
   ]
  },
  {
   "cell_type": "code",
   "execution_count": 40,
   "metadata": {},
   "outputs": [
    {
     "name": "stdout",
     "output_type": "stream",
     "text": [
      "From the dataset we observe that Genre 'Action, Drama, Thriller' earns the highest revenue,followed by 'Animation, Adventure, Drama'\n",
      "while genre 'Crime, Thriller' earns the lowest.\n"
     ]
    }
   ],
   "source": [
    "# Print Box office revenue analysis per Genre\n",
    "print(f\"From the dataset we observe that Genre 'Action, Drama, Thriller' earns the highest revenue,followed by 'Animation, Adventure, Drama'\")\n",
    "print(f\"while genre 'Crime, Thriller' earns the lowest.\")"
   ]
  },
  {
   "cell_type": "code",
   "execution_count": 41,
   "metadata": {},
   "outputs": [
    {
     "data": {
      "text/html": [
       "<div>\n",
       "<style scoped>\n",
       "    .dataframe tbody tr th:only-of-type {\n",
       "        vertical-align: middle;\n",
       "    }\n",
       "\n",
       "    .dataframe tbody tr th {\n",
       "        vertical-align: top;\n",
       "    }\n",
       "\n",
       "    .dataframe thead th {\n",
       "        text-align: right;\n",
       "    }\n",
       "</style>\n",
       "<table border=\"1\" class=\"dataframe\">\n",
       "  <thead>\n",
       "    <tr style=\"text-align: right;\">\n",
       "      <th></th>\n",
       "      <th>Count of Votes</th>\n",
       "    </tr>\n",
       "    <tr>\n",
       "      <th>Genre</th>\n",
       "      <th></th>\n",
       "    </tr>\n",
       "  </thead>\n",
       "  <tbody>\n",
       "    <tr>\n",
       "      <th>Drama, Romance</th>\n",
       "      <td>2.174144e+06</td>\n",
       "    </tr>\n",
       "    <tr>\n",
       "      <th>Drama</th>\n",
       "      <td>2.018383e+06</td>\n",
       "    </tr>\n",
       "    <tr>\n",
       "      <th>Adventure, Drama, Sci-Fi</th>\n",
       "      <td>1.980713e+06</td>\n",
       "    </tr>\n",
       "    <tr>\n",
       "      <th>Crime, Drama</th>\n",
       "      <td>1.803354e+06</td>\n",
       "    </tr>\n",
       "    <tr>\n",
       "      <th>Action, Drama, Thriller</th>\n",
       "      <td>1.770340e+06</td>\n",
       "    </tr>\n",
       "    <tr>\n",
       "      <th>Action, Sci-Fi</th>\n",
       "      <td>1.707814e+06</td>\n",
       "    </tr>\n",
       "    <tr>\n",
       "      <th>Drama, Western</th>\n",
       "      <td>1.631030e+06</td>\n",
       "    </tr>\n",
       "    <tr>\n",
       "      <th>Adventure, Drama, War</th>\n",
       "      <td>1.520799e+06</td>\n",
       "    </tr>\n",
       "    <tr>\n",
       "      <th>Action, Adventure, Drama</th>\n",
       "      <td>1.381248e+06</td>\n",
       "    </tr>\n",
       "    <tr>\n",
       "      <th>Crime, Drama, Fantasy</th>\n",
       "      <td>1.358214e+06</td>\n",
       "    </tr>\n",
       "    <tr>\n",
       "      <th>Mystery, Thriller</th>\n",
       "      <td>1.337049e+06</td>\n",
       "    </tr>\n",
       "    <tr>\n",
       "      <th>Crime, Drama, Thriller</th>\n",
       "      <td>1.320165e+06</td>\n",
       "    </tr>\n",
       "    <tr>\n",
       "      <th>Biography, Crime, Drama</th>\n",
       "      <td>1.212485e+06</td>\n",
       "    </tr>\n",
       "    <tr>\n",
       "      <th>Action, Adventure, Sci-Fi</th>\n",
       "      <td>1.200895e+06</td>\n",
       "    </tr>\n",
       "    <tr>\n",
       "      <th>Action, Crime, Drama</th>\n",
       "      <td>1.139790e+06</td>\n",
       "    </tr>\n",
       "    <tr>\n",
       "      <th>Crime, Drama, Mystery</th>\n",
       "      <td>1.117533e+06</td>\n",
       "    </tr>\n",
       "    <tr>\n",
       "      <th>Drama, Mystery, Sci-Fi</th>\n",
       "      <td>1.109990e+06</td>\n",
       "    </tr>\n",
       "    <tr>\n",
       "      <th>Animation, Adventure, Drama</th>\n",
       "      <td>1.101888e+06</td>\n",
       "    </tr>\n",
       "    <tr>\n",
       "      <th>Action, Adventure, Fantasy</th>\n",
       "      <td>1.072655e+06</td>\n",
       "    </tr>\n",
       "    <tr>\n",
       "      <th>Crime, Thriller</th>\n",
       "      <td>1.057500e+06</td>\n",
       "    </tr>\n",
       "    <tr>\n",
       "      <th>Drama, Romance, Sci-Fi</th>\n",
       "      <td>1.043586e+06</td>\n",
       "    </tr>\n",
       "    <tr>\n",
       "      <th>Drama, Mystery, Thriller</th>\n",
       "      <td>1.022962e+06</td>\n",
       "    </tr>\n",
       "    <tr>\n",
       "      <th>Action, Adventure</th>\n",
       "      <td>1.011175e+06</td>\n",
       "    </tr>\n",
       "    <tr>\n",
       "      <th>Biography, Drama, History</th>\n",
       "      <td>9.578057e+05</td>\n",
       "    </tr>\n",
       "    <tr>\n",
       "      <th>Drama, Music</th>\n",
       "      <td>9.298330e+05</td>\n",
       "    </tr>\n",
       "    <tr>\n",
       "      <th>Biography, Comedy, Drama</th>\n",
       "      <td>8.965210e+05</td>\n",
       "    </tr>\n",
       "    <tr>\n",
       "      <th>Adventure, Comedy, Crime</th>\n",
       "      <td>8.530600e+05</td>\n",
       "    </tr>\n",
       "    <tr>\n",
       "      <th>Action, Adventure, Comedy</th>\n",
       "      <td>7.902940e+05</td>\n",
       "    </tr>\n",
       "    <tr>\n",
       "      <th>Action, Drama, Horror</th>\n",
       "      <td>7.892880e+05</td>\n",
       "    </tr>\n",
       "    <tr>\n",
       "      <th>Adventure, Western</th>\n",
       "      <td>7.878860e+05</td>\n",
       "    </tr>\n",
       "    <tr>\n",
       "      <th>Biography, Drama</th>\n",
       "      <td>7.350770e+05</td>\n",
       "    </tr>\n",
       "    <tr>\n",
       "      <th>Action, Drama</th>\n",
       "      <td>6.802760e+05</td>\n",
       "    </tr>\n",
       "    <tr>\n",
       "      <th>Comedy, Drama, Music</th>\n",
       "      <td>6.324160e+05</td>\n",
       "    </tr>\n",
       "    <tr>\n",
       "      <th>Action, Drama, Mystery</th>\n",
       "      <td>6.152125e+05</td>\n",
       "    </tr>\n",
       "    <tr>\n",
       "      <th>Drama, Romance, War</th>\n",
       "      <td>5.903830e+05</td>\n",
       "    </tr>\n",
       "    <tr>\n",
       "      <th>Comedy, Crime, Drama</th>\n",
       "      <td>4.501780e+05</td>\n",
       "    </tr>\n",
       "    <tr>\n",
       "      <th>Drama, Horror, Sci-Fi</th>\n",
       "      <td>4.309040e+05</td>\n",
       "    </tr>\n",
       "    <tr>\n",
       "      <th>Biography, Drama, Music</th>\n",
       "      <td>4.144340e+05</td>\n",
       "    </tr>\n",
       "    <tr>\n",
       "      <th>Comedy, Drama, Romance</th>\n",
       "      <td>3.657170e+05</td>\n",
       "    </tr>\n",
       "    <tr>\n",
       "      <th>Horror, Sci-Fi, Thriller</th>\n",
       "      <td>2.435380e+05</td>\n",
       "    </tr>\n",
       "    <tr>\n",
       "      <th>Comedy, Horror</th>\n",
       "      <td>1.889900e+05</td>\n",
       "    </tr>\n",
       "    <tr>\n",
       "      <th>Drama, Thriller</th>\n",
       "      <td>1.395310e+05</td>\n",
       "    </tr>\n",
       "    <tr>\n",
       "      <th>Animation, Action, Adventure</th>\n",
       "      <td>1.176200e+05</td>\n",
       "    </tr>\n",
       "    <tr>\n",
       "      <th>Comedy, Drama, Sport</th>\n",
       "      <td>1.164620e+05</td>\n",
       "    </tr>\n",
       "    <tr>\n",
       "      <th>Drama, Mystery</th>\n",
       "      <td>8.366200e+04</td>\n",
       "    </tr>\n",
       "    <tr>\n",
       "      <th>Drama, Horror, Mystery</th>\n",
       "      <td>5.338550e+04</td>\n",
       "    </tr>\n",
       "  </tbody>\n",
       "</table>\n",
       "</div>"
      ],
      "text/plain": [
       "                              Count of Votes\n",
       "Genre                                       \n",
       "Drama, Romance                  2.174144e+06\n",
       "Drama                           2.018383e+06\n",
       "Adventure, Drama, Sci-Fi        1.980713e+06\n",
       "Crime, Drama                    1.803354e+06\n",
       "Action, Drama, Thriller         1.770340e+06\n",
       "Action, Sci-Fi                  1.707814e+06\n",
       "Drama, Western                  1.631030e+06\n",
       "Adventure, Drama, War           1.520799e+06\n",
       "Action, Adventure, Drama        1.381248e+06\n",
       "Crime, Drama, Fantasy           1.358214e+06\n",
       "Mystery, Thriller               1.337049e+06\n",
       "Crime, Drama, Thriller          1.320165e+06\n",
       "Biography, Crime, Drama         1.212485e+06\n",
       "Action, Adventure, Sci-Fi       1.200895e+06\n",
       "Action, Crime, Drama            1.139790e+06\n",
       "Crime, Drama, Mystery           1.117533e+06\n",
       "Drama, Mystery, Sci-Fi          1.109990e+06\n",
       "Animation, Adventure, Drama     1.101888e+06\n",
       "Action, Adventure, Fantasy      1.072655e+06\n",
       "Crime, Thriller                 1.057500e+06\n",
       "Drama, Romance, Sci-Fi          1.043586e+06\n",
       "Drama, Mystery, Thriller        1.022962e+06\n",
       "Action, Adventure               1.011175e+06\n",
       "Biography, Drama, History       9.578057e+05\n",
       "Drama, Music                    9.298330e+05\n",
       "Biography, Comedy, Drama        8.965210e+05\n",
       "Adventure, Comedy, Crime        8.530600e+05\n",
       "Action, Adventure, Comedy       7.902940e+05\n",
       "Action, Drama, Horror           7.892880e+05\n",
       "Adventure, Western              7.878860e+05\n",
       "Biography, Drama                7.350770e+05\n",
       "Action, Drama                   6.802760e+05\n",
       "Comedy, Drama, Music            6.324160e+05\n",
       "Action, Drama, Mystery          6.152125e+05\n",
       "Drama, Romance, War             5.903830e+05\n",
       "Comedy, Crime, Drama            4.501780e+05\n",
       "Drama, Horror, Sci-Fi           4.309040e+05\n",
       "Biography, Drama, Music         4.144340e+05\n",
       "Comedy, Drama, Romance          3.657170e+05\n",
       "Horror, Sci-Fi, Thriller        2.435380e+05\n",
       "Comedy, Horror                  1.889900e+05\n",
       "Drama, Thriller                 1.395310e+05\n",
       "Animation, Action, Adventure    1.176200e+05\n",
       "Comedy, Drama, Sport            1.164620e+05\n",
       "Drama, Mystery                  8.366200e+04\n",
       "Drama, Horror, Mystery          5.338550e+04"
      ]
     },
     "execution_count": 41,
     "metadata": {},
     "output_type": "execute_result"
    }
   ],
   "source": [
    "# Get average Box Office Revenue by Count of Votes category and provide analysis:\n",
    "avg_rev_vot = movies_data_df.groupby([\"Genre\"])[\"Count of Votes\"].mean()\n",
    "avg_rev_vot_df = pd.DataFrame(avg_rev_vot)\n",
    "\n",
    "avg_rev_vot_df.sort_values(\"Count of Votes\", ascending=False)"
   ]
  },
  {
   "cell_type": "code",
   "execution_count": 17,
   "metadata": {},
   "outputs": [
    {
     "data": {
      "text/html": [
       "<div>\n",
       "<style scoped>\n",
       "    .dataframe tbody tr th:only-of-type {\n",
       "        vertical-align: middle;\n",
       "    }\n",
       "\n",
       "    .dataframe tbody tr th {\n",
       "        vertical-align: top;\n",
       "    }\n",
       "\n",
       "    .dataframe thead th {\n",
       "        text-align: right;\n",
       "    }\n",
       "</style>\n",
       "<table border=\"1\" class=\"dataframe\">\n",
       "  <thead>\n",
       "    <tr style=\"text-align: right;\">\n",
       "      <th></th>\n",
       "      <th>Rating</th>\n",
       "    </tr>\n",
       "    <tr>\n",
       "      <th>Genre</th>\n",
       "      <th></th>\n",
       "    </tr>\n",
       "  </thead>\n",
       "  <tbody>\n",
       "    <tr>\n",
       "      <th>Drama</th>\n",
       "      <td>9.0</td>\n",
       "    </tr>\n",
       "    <tr>\n",
       "      <th>Adventure, Drama, Sci-Fi</th>\n",
       "      <td>9.0</td>\n",
       "    </tr>\n",
       "    <tr>\n",
       "      <th>Biography, Crime, Drama</th>\n",
       "      <td>9.0</td>\n",
       "    </tr>\n",
       "    <tr>\n",
       "      <th>Crime, Drama</th>\n",
       "      <td>9.0</td>\n",
       "    </tr>\n",
       "    <tr>\n",
       "      <th>Crime, Drama, Fantasy</th>\n",
       "      <td>9.0</td>\n",
       "    </tr>\n",
       "    <tr>\n",
       "      <th>Adventure, Western</th>\n",
       "      <td>9.0</td>\n",
       "    </tr>\n",
       "    <tr>\n",
       "      <th>Biography, Drama, History</th>\n",
       "      <td>9.0</td>\n",
       "    </tr>\n",
       "    <tr>\n",
       "      <th>Drama, Romance</th>\n",
       "      <td>9.0</td>\n",
       "    </tr>\n",
       "    <tr>\n",
       "      <th>Drama, Mystery, Sci-Fi</th>\n",
       "      <td>8.0</td>\n",
       "    </tr>\n",
       "    <tr>\n",
       "      <th>Drama, Music</th>\n",
       "      <td>8.0</td>\n",
       "    </tr>\n",
       "    <tr>\n",
       "      <th>Drama, Horror, Sci-Fi</th>\n",
       "      <td>8.0</td>\n",
       "    </tr>\n",
       "    <tr>\n",
       "      <th>Comedy, Crime, Drama</th>\n",
       "      <td>8.0</td>\n",
       "    </tr>\n",
       "    <tr>\n",
       "      <th>Crime, Thriller</th>\n",
       "      <td>8.0</td>\n",
       "    </tr>\n",
       "    <tr>\n",
       "      <th>Drama, Mystery, Thriller</th>\n",
       "      <td>8.0</td>\n",
       "    </tr>\n",
       "    <tr>\n",
       "      <th>Crime, Drama, Thriller</th>\n",
       "      <td>8.0</td>\n",
       "    </tr>\n",
       "    <tr>\n",
       "      <th>Crime, Drama, Mystery</th>\n",
       "      <td>8.0</td>\n",
       "    </tr>\n",
       "    <tr>\n",
       "      <th>Drama, Romance, Sci-Fi</th>\n",
       "      <td>8.0</td>\n",
       "    </tr>\n",
       "    <tr>\n",
       "      <th>Drama, Romance, War</th>\n",
       "      <td>8.0</td>\n",
       "    </tr>\n",
       "    <tr>\n",
       "      <th>Drama, Western</th>\n",
       "      <td>8.0</td>\n",
       "    </tr>\n",
       "    <tr>\n",
       "      <th>Action, Adventure, Comedy</th>\n",
       "      <td>8.0</td>\n",
       "    </tr>\n",
       "    <tr>\n",
       "      <th>Action, Adventure</th>\n",
       "      <td>8.0</td>\n",
       "    </tr>\n",
       "    <tr>\n",
       "      <th>Comedy, Drama, Music</th>\n",
       "      <td>8.0</td>\n",
       "    </tr>\n",
       "    <tr>\n",
       "      <th>Biography, Drama, Music</th>\n",
       "      <td>8.0</td>\n",
       "    </tr>\n",
       "    <tr>\n",
       "      <th>Action, Sci-Fi</th>\n",
       "      <td>8.0</td>\n",
       "    </tr>\n",
       "    <tr>\n",
       "      <th>Action, Adventure, Drama</th>\n",
       "      <td>8.0</td>\n",
       "    </tr>\n",
       "    <tr>\n",
       "      <th>Action, Adventure, Fantasy</th>\n",
       "      <td>8.0</td>\n",
       "    </tr>\n",
       "    <tr>\n",
       "      <th>Action, Adventure, Sci-Fi</th>\n",
       "      <td>8.0</td>\n",
       "    </tr>\n",
       "    <tr>\n",
       "      <th>Action, Crime, Drama</th>\n",
       "      <td>8.0</td>\n",
       "    </tr>\n",
       "    <tr>\n",
       "      <th>Action, Drama</th>\n",
       "      <td>8.0</td>\n",
       "    </tr>\n",
       "    <tr>\n",
       "      <th>Action, Drama, Mystery</th>\n",
       "      <td>8.0</td>\n",
       "    </tr>\n",
       "    <tr>\n",
       "      <th>Biography, Drama</th>\n",
       "      <td>8.0</td>\n",
       "    </tr>\n",
       "    <tr>\n",
       "      <th>Action, Drama, Thriller</th>\n",
       "      <td>8.0</td>\n",
       "    </tr>\n",
       "    <tr>\n",
       "      <th>Adventure, Comedy, Crime</th>\n",
       "      <td>8.0</td>\n",
       "    </tr>\n",
       "    <tr>\n",
       "      <th>Adventure, Drama, War</th>\n",
       "      <td>8.0</td>\n",
       "    </tr>\n",
       "    <tr>\n",
       "      <th>Animation, Adventure, Drama</th>\n",
       "      <td>8.0</td>\n",
       "    </tr>\n",
       "    <tr>\n",
       "      <th>Biography, Comedy, Drama</th>\n",
       "      <td>8.0</td>\n",
       "    </tr>\n",
       "    <tr>\n",
       "      <th>Mystery, Thriller</th>\n",
       "      <td>8.0</td>\n",
       "    </tr>\n",
       "    <tr>\n",
       "      <th>Drama, Mystery</th>\n",
       "      <td>7.0</td>\n",
       "    </tr>\n",
       "    <tr>\n",
       "      <th>Action, Drama, Horror</th>\n",
       "      <td>7.0</td>\n",
       "    </tr>\n",
       "    <tr>\n",
       "      <th>Comedy, Horror</th>\n",
       "      <td>7.0</td>\n",
       "    </tr>\n",
       "    <tr>\n",
       "      <th>Comedy, Drama, Sport</th>\n",
       "      <td>7.0</td>\n",
       "    </tr>\n",
       "    <tr>\n",
       "      <th>Drama, Thriller</th>\n",
       "      <td>7.0</td>\n",
       "    </tr>\n",
       "    <tr>\n",
       "      <th>Comedy, Drama, Romance</th>\n",
       "      <td>7.0</td>\n",
       "    </tr>\n",
       "    <tr>\n",
       "      <th>Horror, Sci-Fi, Thriller</th>\n",
       "      <td>7.0</td>\n",
       "    </tr>\n",
       "    <tr>\n",
       "      <th>Drama, Horror, Mystery</th>\n",
       "      <td>6.0</td>\n",
       "    </tr>\n",
       "    <tr>\n",
       "      <th>Animation, Action, Adventure</th>\n",
       "      <td>6.0</td>\n",
       "    </tr>\n",
       "  </tbody>\n",
       "</table>\n",
       "</div>"
      ],
      "text/plain": [
       "                              Rating\n",
       "Genre                               \n",
       "Drama                            9.0\n",
       "Adventure, Drama, Sci-Fi         9.0\n",
       "Biography, Crime, Drama          9.0\n",
       "Crime, Drama                     9.0\n",
       "Crime, Drama, Fantasy            9.0\n",
       "Adventure, Western               9.0\n",
       "Biography, Drama, History        9.0\n",
       "Drama, Romance                   9.0\n",
       "Drama, Mystery, Sci-Fi           8.0\n",
       "Drama, Music                     8.0\n",
       "Drama, Horror, Sci-Fi            8.0\n",
       "Comedy, Crime, Drama             8.0\n",
       "Crime, Thriller                  8.0\n",
       "Drama, Mystery, Thriller         8.0\n",
       "Crime, Drama, Thriller           8.0\n",
       "Crime, Drama, Mystery            8.0\n",
       "Drama, Romance, Sci-Fi           8.0\n",
       "Drama, Romance, War              8.0\n",
       "Drama, Western                   8.0\n",
       "Action, Adventure, Comedy        8.0\n",
       "Action, Adventure                8.0\n",
       "Comedy, Drama, Music             8.0\n",
       "Biography, Drama, Music          8.0\n",
       "Action, Sci-Fi                   8.0\n",
       "Action, Adventure, Drama         8.0\n",
       "Action, Adventure, Fantasy       8.0\n",
       "Action, Adventure, Sci-Fi        8.0\n",
       "Action, Crime, Drama             8.0\n",
       "Action, Drama                    8.0\n",
       "Action, Drama, Mystery           8.0\n",
       "Biography, Drama                 8.0\n",
       "Action, Drama, Thriller          8.0\n",
       "Adventure, Comedy, Crime         8.0\n",
       "Adventure, Drama, War            8.0\n",
       "Animation, Adventure, Drama      8.0\n",
       "Biography, Comedy, Drama         8.0\n",
       "Mystery, Thriller                8.0\n",
       "Drama, Mystery                   7.0\n",
       "Action, Drama, Horror            7.0\n",
       "Comedy, Horror                   7.0\n",
       "Comedy, Drama, Sport             7.0\n",
       "Drama, Thriller                  7.0\n",
       "Comedy, Drama, Romance           7.0\n",
       "Horror, Sci-Fi, Thriller         7.0\n",
       "Drama, Horror, Mystery           6.0\n",
       "Animation, Action, Adventure     6.0"
      ]
     },
     "execution_count": 17,
     "metadata": {},
     "output_type": "execute_result"
    }
   ],
   "source": [
    "# Get average Box Office Revenue by Count of Votes category and provide analysis:\n",
    "avg_rev_rate = round(movies_data_df.groupby([\"Genre\"])[\"Rating\"].mean(),0)\n",
    "avg_rev_rate_df = pd.DataFrame(avg_rev_rate)\n",
    "\n",
    "avg_rev_rate_df.sort_values(\"Rating\", ascending=False)"
   ]
  },
  {
   "cell_type": "code",
   "execution_count": 19,
   "metadata": {},
   "outputs": [
    {
     "data": {
      "text/html": [
       "<div>\n",
       "<style scoped>\n",
       "    .dataframe tbody tr th:only-of-type {\n",
       "        vertical-align: middle;\n",
       "    }\n",
       "\n",
       "    .dataframe tbody tr th {\n",
       "        vertical-align: top;\n",
       "    }\n",
       "\n",
       "    .dataframe thead th {\n",
       "        text-align: right;\n",
       "    }\n",
       "</style>\n",
       "<table border=\"1\" class=\"dataframe\">\n",
       "  <thead>\n",
       "    <tr style=\"text-align: right;\">\n",
       "      <th></th>\n",
       "      <th>Count of Votes</th>\n",
       "    </tr>\n",
       "    <tr>\n",
       "      <th>Rating</th>\n",
       "      <th></th>\n",
       "    </tr>\n",
       "  </thead>\n",
       "  <tbody>\n",
       "    <tr>\n",
       "      <th>9.3</th>\n",
       "      <td>2.790043e+06</td>\n",
       "    </tr>\n",
       "    <tr>\n",
       "      <th>8.9</th>\n",
       "      <td>2.142709e+06</td>\n",
       "    </tr>\n",
       "    <tr>\n",
       "      <th>9.2</th>\n",
       "      <td>1.945639e+06</td>\n",
       "    </tr>\n",
       "    <tr>\n",
       "      <th>8.8</th>\n",
       "      <td>1.912288e+06</td>\n",
       "    </tr>\n",
       "    <tr>\n",
       "      <th>9.0</th>\n",
       "      <td>1.853384e+06</td>\n",
       "    </tr>\n",
       "    <tr>\n",
       "      <th>8.7</th>\n",
       "      <td>1.511557e+06</td>\n",
       "    </tr>\n",
       "    <tr>\n",
       "      <th>8.5</th>\n",
       "      <td>1.171226e+06</td>\n",
       "    </tr>\n",
       "    <tr>\n",
       "      <th>8.6</th>\n",
       "      <td>1.165557e+06</td>\n",
       "    </tr>\n",
       "    <tr>\n",
       "      <th>8.3</th>\n",
       "      <td>1.156087e+06</td>\n",
       "    </tr>\n",
       "    <tr>\n",
       "      <th>8.2</th>\n",
       "      <td>1.116357e+06</td>\n",
       "    </tr>\n",
       "    <tr>\n",
       "      <th>8.4</th>\n",
       "      <td>1.088021e+06</td>\n",
       "    </tr>\n",
       "    <tr>\n",
       "      <th>8.1</th>\n",
       "      <td>9.174627e+05</td>\n",
       "    </tr>\n",
       "    <tr>\n",
       "      <th>8.0</th>\n",
       "      <td>8.711474e+05</td>\n",
       "    </tr>\n",
       "    <tr>\n",
       "      <th>7.2</th>\n",
       "      <td>7.892880e+05</td>\n",
       "    </tr>\n",
       "    <tr>\n",
       "      <th>7.8</th>\n",
       "      <td>6.938573e+05</td>\n",
       "    </tr>\n",
       "    <tr>\n",
       "      <th>7.9</th>\n",
       "      <td>6.202360e+05</td>\n",
       "    </tr>\n",
       "    <tr>\n",
       "      <th>7.1</th>\n",
       "      <td>4.613877e+05</td>\n",
       "    </tr>\n",
       "    <tr>\n",
       "      <th>7.7</th>\n",
       "      <td>4.529930e+05</td>\n",
       "    </tr>\n",
       "    <tr>\n",
       "      <th>7.5</th>\n",
       "      <td>3.115480e+05</td>\n",
       "    </tr>\n",
       "    <tr>\n",
       "      <th>6.6</th>\n",
       "      <td>2.435380e+05</td>\n",
       "    </tr>\n",
       "    <tr>\n",
       "      <th>7.3</th>\n",
       "      <td>2.410895e+05</td>\n",
       "    </tr>\n",
       "    <tr>\n",
       "      <th>7.4</th>\n",
       "      <td>1.889900e+05</td>\n",
       "    </tr>\n",
       "    <tr>\n",
       "      <th>6.1</th>\n",
       "      <td>1.176200e+05</td>\n",
       "    </tr>\n",
       "    <tr>\n",
       "      <th>6.9</th>\n",
       "      <td>8.366200e+04</td>\n",
       "    </tr>\n",
       "    <tr>\n",
       "      <th>5.6</th>\n",
       "      <td>6.448500e+04</td>\n",
       "    </tr>\n",
       "    <tr>\n",
       "      <th>5.9</th>\n",
       "      <td>4.228600e+04</td>\n",
       "    </tr>\n",
       "  </tbody>\n",
       "</table>\n",
       "</div>"
      ],
      "text/plain": [
       "        Count of Votes\n",
       "Rating                \n",
       "9.3       2.790043e+06\n",
       "8.9       2.142709e+06\n",
       "9.2       1.945639e+06\n",
       "8.8       1.912288e+06\n",
       "9.0       1.853384e+06\n",
       "8.7       1.511557e+06\n",
       "8.5       1.171226e+06\n",
       "8.6       1.165557e+06\n",
       "8.3       1.156087e+06\n",
       "8.2       1.116357e+06\n",
       "8.4       1.088021e+06\n",
       "8.1       9.174627e+05\n",
       "8.0       8.711474e+05\n",
       "7.2       7.892880e+05\n",
       "7.8       6.938573e+05\n",
       "7.9       6.202360e+05\n",
       "7.1       4.613877e+05\n",
       "7.7       4.529930e+05\n",
       "7.5       3.115480e+05\n",
       "6.6       2.435380e+05\n",
       "7.3       2.410895e+05\n",
       "7.4       1.889900e+05\n",
       "6.1       1.176200e+05\n",
       "6.9       8.366200e+04\n",
       "5.6       6.448500e+04\n",
       "5.9       4.228600e+04"
      ]
     },
     "execution_count": 19,
     "metadata": {},
     "output_type": "execute_result"
    }
   ],
   "source": [
    "# Get average Box Office Revenue by Count of Votes category and provide analysis:\n",
    "avg_movi_rate = movies_data_df.groupby([\"Rating\"])[\"Count of Votes\"].mean()\n",
    "avg_movi_rate_df = pd.DataFrame(avg_movi_rate)\n",
    "\n",
    "avg_movi_rate_df.sort_values(\"Count of Votes\", ascending=False)"
   ]
  },
  {
   "cell_type": "code",
   "execution_count": 21,
   "metadata": {},
   "outputs": [
    {
     "data": {
      "text/html": [
       "<div>\n",
       "<style scoped>\n",
       "    .dataframe tbody tr th:only-of-type {\n",
       "        vertical-align: middle;\n",
       "    }\n",
       "\n",
       "    .dataframe tbody tr th {\n",
       "        vertical-align: top;\n",
       "    }\n",
       "\n",
       "    .dataframe thead th {\n",
       "        text-align: right;\n",
       "    }\n",
       "</style>\n",
       "<table border=\"1\" class=\"dataframe\">\n",
       "  <thead>\n",
       "    <tr style=\"text-align: right;\">\n",
       "      <th></th>\n",
       "      <th>Title</th>\n",
       "      <th>Release Year</th>\n",
       "      <th>Genre</th>\n",
       "      <th>Rating</th>\n",
       "      <th>Count of Votes</th>\n",
       "      <th>Box Office Revenue</th>\n",
       "    </tr>\n",
       "  </thead>\n",
       "  <tbody>\n",
       "    <tr>\n",
       "      <th>0</th>\n",
       "      <td>The Shawshank Redemption</td>\n",
       "      <td>1994</td>\n",
       "      <td>Drama</td>\n",
       "      <td>9.3</td>\n",
       "      <td>2790043</td>\n",
       "      <td>28767189</td>\n",
       "    </tr>\n",
       "    <tr>\n",
       "      <th>1</th>\n",
       "      <td>The Godfather</td>\n",
       "      <td>1972</td>\n",
       "      <td>Crime, Drama</td>\n",
       "      <td>9.2</td>\n",
       "      <td>1945639</td>\n",
       "      <td>136381073</td>\n",
       "    </tr>\n",
       "    <tr>\n",
       "      <th>2</th>\n",
       "      <td>Pulp Fiction</td>\n",
       "      <td>1994</td>\n",
       "      <td>Crime, Drama</td>\n",
       "      <td>8.9</td>\n",
       "      <td>2142709</td>\n",
       "      <td>107928762</td>\n",
       "    </tr>\n",
       "    <tr>\n",
       "      <th>3</th>\n",
       "      <td>The Dark Knight</td>\n",
       "      <td>2008</td>\n",
       "      <td>Action, Crime, Drama</td>\n",
       "      <td>9.0</td>\n",
       "      <td>2774186</td>\n",
       "      <td>534987076</td>\n",
       "    </tr>\n",
       "    <tr>\n",
       "      <th>4</th>\n",
       "      <td>Schindler's List</td>\n",
       "      <td>1993</td>\n",
       "      <td>Biography, Drama, History</td>\n",
       "      <td>9.0</td>\n",
       "      <td>1404593</td>\n",
       "      <td>96898818</td>\n",
       "    </tr>\n",
       "    <tr>\n",
       "      <th>...</th>\n",
       "      <td>...</td>\n",
       "      <td>...</td>\n",
       "      <td>...</td>\n",
       "      <td>...</td>\n",
       "      <td>...</td>\n",
       "      <td>...</td>\n",
       "    </tr>\n",
       "    <tr>\n",
       "      <th>70</th>\n",
       "      <td>Joker</td>\n",
       "      <td>2019</td>\n",
       "      <td>Crime, Drama, Thriller</td>\n",
       "      <td>8.4</td>\n",
       "      <td>1392643</td>\n",
       "      <td>335477657</td>\n",
       "    </tr>\n",
       "    <tr>\n",
       "      <th>71</th>\n",
       "      <td>Indiana Jones and the Raiders of the Lost Ark</td>\n",
       "      <td>1981</td>\n",
       "      <td>Action, Adventure</td>\n",
       "      <td>8.4</td>\n",
       "      <td>1011175</td>\n",
       "      <td>248159971</td>\n",
       "    </tr>\n",
       "    <tr>\n",
       "      <th>72</th>\n",
       "      <td>Oldboy</td>\n",
       "      <td>2003</td>\n",
       "      <td>Action, Drama, Mystery</td>\n",
       "      <td>8.4</td>\n",
       "      <td>608751</td>\n",
       "      <td>2338699</td>\n",
       "    </tr>\n",
       "    <tr>\n",
       "      <th>73</th>\n",
       "      <td>Avengers: Endgame</td>\n",
       "      <td>2019</td>\n",
       "      <td>Action, Adventure, Drama</td>\n",
       "      <td>8.4</td>\n",
       "      <td>1210961</td>\n",
       "      <td>858373000</td>\n",
       "    </tr>\n",
       "    <tr>\n",
       "      <th>74</th>\n",
       "      <td>Amadeus</td>\n",
       "      <td>1984</td>\n",
       "      <td>Biography, Drama, Music</td>\n",
       "      <td>8.4</td>\n",
       "      <td>414434</td>\n",
       "      <td>51973029</td>\n",
       "    </tr>\n",
       "  </tbody>\n",
       "</table>\n",
       "<p>75 rows × 6 columns</p>\n",
       "</div>"
      ],
      "text/plain": [
       "                                            Title Release Year  \\\n",
       "0                        The Shawshank Redemption         1994   \n",
       "1                                   The Godfather         1972   \n",
       "2                                    Pulp Fiction         1994   \n",
       "3                                 The Dark Knight         2008   \n",
       "4                                Schindler's List         1993   \n",
       "..                                            ...          ...   \n",
       "70                                          Joker         2019   \n",
       "71  Indiana Jones and the Raiders of the Lost Ark         1981   \n",
       "72                                         Oldboy         2003   \n",
       "73                              Avengers: Endgame         2019   \n",
       "74                                        Amadeus         1984   \n",
       "\n",
       "                        Genre  Rating  Count of Votes  Box Office Revenue  \n",
       "0                       Drama     9.3         2790043            28767189  \n",
       "1                Crime, Drama     9.2         1945639           136381073  \n",
       "2                Crime, Drama     8.9         2142709           107928762  \n",
       "3        Action, Crime, Drama     9.0         2774186           534987076  \n",
       "4   Biography, Drama, History     9.0         1404593            96898818  \n",
       "..                        ...     ...             ...                 ...  \n",
       "70     Crime, Drama, Thriller     8.4         1392643           335477657  \n",
       "71          Action, Adventure     8.4         1011175           248159971  \n",
       "72     Action, Drama, Mystery     8.4          608751             2338699  \n",
       "73   Action, Adventure, Drama     8.4         1210961           858373000  \n",
       "74    Biography, Drama, Music     8.4          414434            51973029  \n",
       "\n",
       "[75 rows x 6 columns]"
      ]
     },
     "execution_count": 21,
     "metadata": {},
     "output_type": "execute_result"
    }
   ],
   "source": [
    "movies_data_df"
   ]
  },
  {
   "cell_type": "code",
   "execution_count": 22,
   "metadata": {},
   "outputs": [
    {
     "name": "stdout",
     "output_type": "stream",
     "text": [
      "The correlation between both factors is 0.2\n"
     ]
    }
   ],
   "source": [
    "# Check if movie revenue and rating are correlated:\n",
    "boxoff_rev = movies_data_df.iloc[:,5]\n",
    "movie_rating = movies_data_df.iloc[:,3]\n",
    "correlation = st.pearsonr(boxoff_rev,movie_rating)\n",
    "print(f\"The correlation between both factors is {round(correlation[0],2)}\")"
   ]
  },
  {
   "cell_type": "code",
   "execution_count": 23,
   "metadata": {},
   "outputs": [
    {
     "name": "stdout",
     "output_type": "stream",
     "text": [
      "The correlation between both factors is 0.2\n"
     ]
    },
    {
     "data": {
      "image/png": "[encoded data removed]",
      "text/plain": [
       "<Figure size 432x288 with 1 Axes>"
      ]
     },
     "metadata": {
      "needs_background": "light"
     },
     "output_type": "display_data"
    }
   ],
   "source": [
    "# Compare the calcualted Pearson's r to the plots\n",
    "plt.scatter(boxoff_rev,movie_rating)\n",
    "plt.xlabel('Movie Revenue in 100 Million Dollars')\n",
    "plt.ylabel('Movie Ratings in Millions per IMDB source')\n",
    "print(f\"The correlation between both factors is {round(correlation[0],2)}\")\n",
    "plt.show()"
   ]
  },
  {
   "cell_type": "code",
   "execution_count": 42,
   "metadata": {},
   "outputs": [
    {
     "name": "stdout",
     "output_type": "stream",
     "text": [
      "The value of correlation is just around 0.2 which indicates weak correlation between movie's revenue and its ratings.\n"
     ]
    }
   ],
   "source": [
    "# Movie Revenue vs Movie Rating Analysis:\n",
    "print(f\"The value of correlation is just around 0.2 which indicates weak correlation between movie's revenue and its ratings.\")"
   ]
  },
  {
   "cell_type": "code",
   "execution_count": 43,
   "metadata": {},
   "outputs": [
    {
     "name": "stdout",
     "output_type": "stream",
     "text": [
      "Regression line equation is: y = 0.0 x + 8.01\n",
      "The r-squared is: 0.1983484112858979\n",
      "The regression shows a positive correlation.\n",
      "Movie's revenue has weak correlation to its ratings.\n"
     ]
    },
    {
     "data": {
      "image/png": "[encoded data removed]",
      "text/plain": [
       "<Figure size 432x288 with 1 Axes>"
      ]
     },
     "metadata": {
      "needs_background": "light"
     },
     "output_type": "display_data"
    }
   ],
   "source": [
    "# Linear regression on Movie Revenue vs Count of Votes\n",
    "(slope, intercept, rvalue, pvalue, stderr) = linregress(boxoff_rev, movie_rating)\n",
    "regress_values = boxoff_rev * slope + intercept\n",
    "line_eq = f\"y = {str(round(slope,2))} x + {str(round(intercept,2))}\"\n",
    "print(f\"Regression line equation is: {line_eq}\")\n",
    "plt.scatter(boxoff_rev,movie_rating)\n",
    "plt.plot(boxoff_rev,regress_values,color='red')\n",
    "plt.xlabel('Movie Revenue in 100 Million Dollars')\n",
    "plt.ylabel('Movie Rating')\n",
    "plt.annotate(line_eq,(2,8.8),fontsize=14,color='red')\n",
    "plt.title('Movie Revenue vs Rating Linear Regression')\n",
    "\n",
    "print(f\"The r-squared is: {rvalue}\")\n",
    "print(\"The regression shows a positive correlation.\")\n",
    "print(\"Movie's revenue has weak correlation to its ratings.\")\n",
    "plt.show()"
   ]
  },
  {
   "cell_type": "code",
   "execution_count": 44,
   "metadata": {},
   "outputs": [
    {
     "name": "stdout",
     "output_type": "stream",
     "text": [
      "The correlation between both factors is 0.34\n"
     ]
    }
   ],
   "source": [
    "# Check if movie revenue and count of votes are correlated:\n",
    "boxoff_rev = movies_data_df.iloc[:,5]\n",
    "votes_count = movies_data_df.iloc[:,4]\n",
    "correlation = st.pearsonr(boxoff_rev, votes_count)\n",
    "print(f\"The correlation between both factors is {round(correlation[0],2)}\")"
   ]
  },
  {
   "cell_type": "code",
   "execution_count": 27,
   "metadata": {},
   "outputs": [
    {
     "name": "stdout",
     "output_type": "stream",
     "text": [
      "The value of pearson correlation is less than 0.5 which indicates weak correlation between movie's revenue and its votes counts.\n"
     ]
    }
   ],
   "source": [
    "# Movie Revenue vs Count of Votes the movie received analysis:\n",
    "print(f\"The value of pearson correlation is less than 0.5 which indicates weak correlation between movie's revenue and its votes counts.\")"
   ]
  },
  {
   "cell_type": "code",
   "execution_count": 45,
   "metadata": {},
   "outputs": [
    {
     "name": "stdout",
     "output_type": "stream",
     "text": [
      "The correlation between both factors is 0.34\n"
     ]
    },
    {
     "data": {
      "image/png": "[encoded data removed]",
      "text/plain": [
       "<Figure size 432x288 with 1 Axes>"
      ]
     },
     "metadata": {
      "needs_background": "light"
     },
     "output_type": "display_data"
    }
   ],
   "source": [
    "# Compare the calcualted Pearson's r to the plots\n",
    "plt.scatter(boxoff_rev,votes_count)\n",
    "plt.xlabel('Movie Revenue in 100 Million Dollars')\n",
    "plt.ylabel('Count of Votes in millions')\n",
    "print(f\"The correlation between both factors is {round(correlation[0],2)}\")\n",
    "plt.show()"
   ]
  },
  {
   "cell_type": "code",
   "execution_count": 46,
   "metadata": {},
   "outputs": [
    {
     "name": "stdout",
     "output_type": "stream",
     "text": [
      "Regression line equation is: y = 0.0 x + 858690.73\n",
      "The r-squared is: 0.3410588809283918\n",
      "The regression shows a positive correlation.\n",
      "Movie's revenue is an indication of higher votes counts it receives.\n"
     ]
    },
    {
     "data": {
      "image/png": "[encoded data removed]",
      "text/plain": [
       "<Figure size 432x288 with 1 Axes>"
      ]
     },
     "metadata": {
      "needs_background": "light"
     },
     "output_type": "display_data"
    }
   ],
   "source": [
    "# Linear regression on Movie Revenue vs Count of Votes\n",
    "(slope, intercept, rvalue, pvalue, stderr) = linregress(boxoff_rev, votes_count)\n",
    "regress_values = boxoff_rev * slope + intercept\n",
    "line_eq = f\"y = {str(round(slope,2))} x + {str(round(intercept,2))}\"\n",
    "print(f\"Regression line equation is: {line_eq}\")\n",
    "plt.scatter(boxoff_rev,votes_count)\n",
    "plt.plot(boxoff_rev,regress_values,color='red')\n",
    "plt.xlabel('Movie Revenue in 100 Million Dollars')\n",
    "plt.ylabel('Count of Votes')\n",
    "plt.annotate(line_eq,(2,2.2),fontsize=14,color='red')\n",
    "plt.title('Movie Revenue vs Count of Votes Linear Regression')\n",
    "\n",
    "print(f\"The r-squared is: {rvalue}\")\n",
    "print(\"The regression shows a positive correlation.\")\n",
    "print(\"Movie's revenue is an indication of higher votes counts it receives.\")\n",
    "plt.show()"
   ]
  },
  {
   "cell_type": "code",
   "execution_count": 30,
   "metadata": {},
   "outputs": [
    {
     "data": {
      "image/png": "[encoded data removed]",
      "text/plain": [
       "<Figure size 576x360 with 1 Axes>"
      ]
     },
     "metadata": {
      "needs_background": "light"
     },
     "output_type": "display_data"
    }
   ],
   "source": [
    "# Plot scatter plot to analyze movie's revenue and the ratings\n",
    "\n",
    "plt.figure(figsize=(8, 5))\n",
    "plt.scatter(movies_data_df[\"Rating\"], movies_data_df[\"Box Office Revenue\"])\n",
    "plt.xlabel(\"Movie Ratings\")\n",
    "plt.ylabel(\"Box Office Revenue in 100 millions\")\n",
    "plt.title(\"Revenue vs. Ratings\")\n",
    "\n",
    "# Create regression line \n",
    "slope, intercept, rvalue, pvalue, stderr = linregress(\n",
    "    movies_data_df[\"Rating\"], movies_data_df[\"Box Office Revenue\"])\n",
    "regress_values = movies_data_df[\"Rating\"] * slope + intercept\n",
    "plt.plot(movies_data_df[\"Rating\"], regress_values, color=\"red\", linewidth=2)\n",
    "plt.show()"
   ]
  },
  {
   "cell_type": "code",
   "execution_count": 31,
   "metadata": {},
   "outputs": [
    {
     "data": {
      "text/plain": [
       "Text(0.5, 1.0, 'Count of Votes vs. Movie Ratings')"
      ]
     },
     "execution_count": 31,
     "metadata": {},
     "output_type": "execute_result"
    },
    {
     "data": {
      "image/png": "[encoded data removed]",
      "text/plain": [
       "<Figure size 504x360 with 1 Axes>"
      ]
     },
     "metadata": {
      "needs_background": "light"
     },
     "output_type": "display_data"
    }
   ],
   "source": [
    "# Create scatter plot to analyze the count of votes and movie ratings\n",
    "plt.figure(figsize=(7, 5))\n",
    "plt.scatter(movies_data_df[\"Count of Votes\"], movies_data_df[\"Rating\"])\n",
    "plt.xlabel(\"Count of Votes (Millions)\")\n",
    "plt.ylabel(\"Movie Ratings\")\n",
    "plt.title(\"Count of Votes vs. Movie Ratings\")"
   ]
  },
  {
   "cell_type": "code",
   "execution_count": 32,
   "metadata": {},
   "outputs": [
    {
     "data": {
      "image/png": "[encoded data removed]",
      "text/plain": [
       "<Figure size 864x432 with 2 Axes>"
      ]
     },
     "metadata": {
      "needs_background": "light"
     },
     "output_type": "display_data"
    }
   ],
   "source": [
    "# Split genres and create separate rows for each genre\n",
    "genre_split = movies_data_df[\"Genre\"].str.split(', ')\n",
    "\n",
    "# Create a list of dictionaries to store split genre\n",
    "genre_data = []\n",
    "\n",
    "for index, row in movies_data_df.iterrows():\n",
    "    for genre in genre_split[index]:\n",
    "        genre_data.append({\n",
    "            \"Genre\": genre,\n",
    "            \"Box Office Revenue\": row[\"Box Office Revenue\"],\n",
    "            \"Rating\": row[\"Rating\"]\n",
    "        })\n",
    "\n",
    "# Create a new DataFrame with split genre data\n",
    "split_genre_df = pd.DataFrame(genre_data)\n",
    "avg_revenue_data = split_genre_df.groupby(\"Genre\")[\"Box Office Revenue\"].mean()\n",
    "avg_revenue_data = avg_revenue_data.sort_values(ascending=False)\n",
    "\n",
    "# Create a grouped bar chart for average revenue and ratings by genre\n",
    "fig, ax1 = plt.subplots(figsize=(12, 6))\n",
    "\n",
    "# Bar chart for average revenue\n",
    "bar_width = 0.4\n",
    "index = range(len(avg_revenue_data))\n",
    "revenue_bars = ax1.bar(index, avg_revenue_data, bar_width, label=\"Average Revenue\", alpha=0.7, color='b')\n",
    "\n",
    "# Add a second y-axis for ratings\n",
    "ax2 = ax1.twinx()\n",
    "rating_bars = ax2.bar([i + bar_width for i in index], split_genre_df.groupby(\"Genre\")[\"Rating\"].mean(), bar_width, label=\"Individual Ratings\", alpha=0.7, color='g')\n",
    "\n",
    "# Set labels & titles\n",
    "plt.xlabel(\"Genre\")\n",
    "ax1.set_ylabel(\"Average Revenue (in 100 Million Dollars\")\n",
    "ax2.set_ylabel(\"Rating\")\n",
    "plt.title(\"Average Revenue and Ratings by Genre\")\n",
    "\n",
    "# Set y-axis limits for revenue to accommodate the actual data range\n",
    "ax1.set_ylim(0, max(avg_revenue_data) * 1.1)\n",
    "\n",
    "# Set x-axis labels \n",
    "plt.xticks([i + bar_width/2 for i in index], avg_revenue_data.index, rotation=90, ha='right')\n",
    "\n",
    "\n",
    "ax1.legend(loc='best', bbox_to_anchor=(0.01, 0.99))\n",
    "ax2.legend(loc='best', bbox_to_anchor=(0.01, 0.90))\n",
    "\n",
    "plt.tight_layout()\n",
    "plt.show()\n"
   ]
  },
  {
   "cell_type": "code",
   "execution_count": 33,
   "metadata": {},
   "outputs": [
    {
     "data": {
      "image/png": "[encoded data removed]",
      "text/plain": [
       "<Figure size 864x432 with 1 Axes>"
      ]
     },
     "metadata": {
      "needs_background": "light"
     },
     "output_type": "display_data"
    },
    {
     "data": {
      "image/png": "[encoded data removed]",
      "text/plain": [
       "<Figure size 864x432 with 1 Axes>"
      ]
     },
     "metadata": {
      "needs_background": "light"
     },
     "output_type": "display_data"
    }
   ],
   "source": [
    "# Scatter plot for movie ratings vs. revenue\n",
    "plt.figure(figsize=(12, 6))\n",
    "plt.scatter(movies_data_df[\"Rating\"], movies_data_df[\"Box Office Revenue\"], alpha=0.7)\n",
    "plt.xlabel(\"Movie Ratings\")\n",
    "plt.ylabel(\"Box Office Revenue (in 100 Million Dollars)\")\n",
    "plt.title(\"Movie Ratings vs. Box Office Revenue\")\n",
    "plt.show()\n",
    "\n",
    "# Scatter plot for count of votes vs. revenue\n",
    "plt.figure(figsize=(12, 6))\n",
    "plt.scatter(movies_data_df[\"Count of Votes\"], movies_data_df[\"Box Office Revenue\"], alpha=0.7)\n",
    "plt.xlabel(\"Count of Votes (millions)\")\n",
    "plt.ylabel(\"Box Office Revenue (Hundreds of millions)\")\n",
    "plt.title(\"Count of Votes vs. Box Office Revenue\")\n",
    "plt.show()"
   ]
  },
  {
   "cell_type": "code",
   "execution_count": 34,
   "metadata": {},
   "outputs": [],
   "source": [
    "# # Data\n",
    "# revenue = movies_data_df[\"Box Office Revenue\"]\n",
    "# ratings = movies_data_df[\"Rating\"]\n",
    "# votes = movies_data_df[\"Count of Votes\"]\n",
    "\n",
    "# # Create the figure and the two subplots\n",
    "# fig, ax1 = plt.subplots(figsize=(12, 6))\n",
    "\n",
    "# # Create the first y-axis (for ratings)\n",
    "# ax1.set_xlabel(\"Revenue (Hundreds of millions)\")\n",
    "# ax1.set_ylabel(\"Movie Ratings\", color=\"b\")\n",
    "# ax1.bar(revenue, ratings, alpha=0.7, color=\"b\")\n",
    "# ax1.tick_params(axis=\"y\", labelcolor=\"b\")\n",
    "\n",
    "# # Create the second y-axis (for count of votes)\n",
    "# ax2 = ax1.twinx()\n",
    "# ax2.set_ylabel(\"Count of Votes (millions)\", color=\"g\")\n",
    "# ax2.scatter(revenue, votes, alpha=0.7, color=\"g\")\n",
    "# ax2.scatter(revenue, ratings, alpha=0.7, color=\"g\", marker=\"x\", s=30)\n",
    "# # Add a title\n",
    "# plt.title(\"Revenue vs. Ratings and Count of Votes\")\n",
    "\n",
    "# # Show the plot\n",
    "# plt.show()"
   ]
  },
  {
   "cell_type": "code",
   "execution_count": 35,
   "metadata": {},
   "outputs": [
    {
     "data": {
      "image/png": "[encoded data removed]",
      "text/plain": [
       "<Figure size 720x432 with 2 Axes>"
      ]
     },
     "metadata": {
      "needs_background": "light"
     },
     "output_type": "display_data"
    }
   ],
   "source": [
    "correlation_matrix = movies_data_df[[\"Rating\", \"Count of Votes\", \"Box Office Revenue\"]].corr()\n",
    "plt.figure(figsize=(10,6))\n",
    "heatmap_rev = plt.imshow(correlation_matrix, cmap=\"coolwarm\", aspect=\"auto\")\n",
    "plt.colorbar(heatmap_rev, label=\"correlation\")\n",
    "\n",
    "plt.xticks(range(len(correlation_matrix.columns)), correlation_matrix.columns, rotation=45)\n",
    "plt.yticks(range(len(correlation_matrix.columns)), correlation_matrix.columns)\n",
    "\n",
    "for i in range(len(correlation_matrix.columns)):\n",
    "    for j in range(len(correlation_matrix.columns)):\n",
    "        text = plt.text(j, i, round(correlation_matrix.iloc[i, j], 2),\n",
    "                        ha='center', va='center', color='black')\n",
    "        \n",
    "plt.title(\"Correlation Heatmap\")\n",
    "plt.show()"
   ]
  },
  {
   "cell_type": "code",
   "execution_count": 36,
   "metadata": {},
   "outputs": [],
   "source": [
    "# # Data\n",
    "# ratings = movies_data_df[\"Rating\"]\n",
    "# revenue = movies_data_df[\"Box Office Revenue\"]\n",
    "# votes = movies_data_df[\"Count of Votes\"]\n",
    "\n",
    "# plt.figure(figsize=(12,6))\n",
    "\n",
    "# plt.scatter(ratings, revenue, alpha=0.7, label=\"Movie Ratings vs Revenue\", color=\"b\")\n",
    "# plt.scatter(votes, revenue, alpha=0.7, label=\"Movie Ratings vs Revenue\", color=\"g\")\n",
    "\n",
    "# plt.xlabel(\"Movie Ratings / Count of votes\")\n",
    "# plt.ylabel(\"Box Office Revenue (in 100 Million Dollars)\")\n",
    "# plt.title(\"Correlation of Movie Ratings, Count of Votes & Revenue\")\n",
    "\n",
    "# plt.show()"
   ]
  },
  {
   "cell_type": "code",
   "execution_count": 37,
   "metadata": {},
   "outputs": [
    {
     "data": {
      "image/png": "[encoded data removed]",
      "text/plain": [
       "<Figure size 720x576 with 2 Axes>"
      ]
     },
     "metadata": {
      "needs_background": "light"
     },
     "output_type": "display_data"
    }
   ],
   "source": [
    "# Data\n",
    "ratings = movies_data_df[\"Rating\"]\n",
    "revenue = movies_data_df[\"Box Office Revenue\"]\n",
    "votes = movies_data_df[\"Count of Votes\"]\n",
    "\n",
    "# Create separate line charts\n",
    "fig, (ax1, ax2) = plt.subplots(2, 1, figsize=(10, 8), sharex=True)\n",
    "\n",
    "# Line chart for movie ratings vs. revenue\n",
    "ax1.scatter(revenue, ratings, label=\"Movie Ratings\", color=\"b\", marker=\"o\")\n",
    "ax1.set_ylabel(\"Movie Ratings\", color=\"b\")\n",
    "ax1.legend(loc=\"lower right\")\n",
    "ax1.grid(True)\n",
    "\n",
    "# Line chart for count of votes vs. revenue\n",
    "ax2.scatter(revenue, votes, label=\"Count of Votes\", color=\"g\", marker=\"s\")\n",
    "ax2.set_xlabel(\"Box Office Revenue (in 100 Million Dollars)\")\n",
    "ax2.set_ylabel(\"Count of Votes (millions)\", color=\"g\")\n",
    "ax2.legend(loc=\"lower right\")\n",
    "ax2.grid(True)\n",
    "\n",
    "# Add a title\n",
    "plt.suptitle(\"Ratings vs. Revenue & Votes vs. Revenue\", y=1.02)\n",
    "plt.tight_layout()\n",
    "plt.show()\n"
   ]
  },
  {
   "cell_type": "code",
   "execution_count": 47,
   "metadata": {},
   "outputs": [
    {
     "data": {
      "text/plain": [
       "<matplotlib.legend.Legend at 0x190ba736108>"
      ]
     },
     "execution_count": 47,
     "metadata": {},
     "output_type": "execute_result"
    },
    {
     "data": {
      "image/png": "[encoded data removed]",
      "text/plain": [
       "<Figure size 432x288 with 2 Axes>"
      ]
     },
     "metadata": {
      "needs_background": "light"
     },
     "output_type": "display_data"
    }
   ],
   "source": [
    "# Perform one t-test:\n",
    "sample = movies_data_df['Box Office Revenue'].sample(n=10, random_state=42)\n",
    "population = movies_data_df['Box Office Revenue']\n",
    "\n",
    "# Scatter Plot of Data\n",
    "plt.subplot(2, 1, 1)\n",
    "plt.scatter(range(len(population)), population, label=\"Population\")\n",
    "plt.scatter(range(len(sample)), sample, label=\"Sample\")\n",
    "plt.legend()\n",
    "\n",
    "# Histogram Plot of Data\n",
    "plt.subplot(2, 1, 2)\n",
    "plt.hist(population, 20, density=True, alpha=0.7, label=\"Population\")\n",
    "plt.hist(sample, 20, density=True, alpha=0.7, label=\"Sample\")\n",
    "plt.axvline(population.mean(), color='k', linestyle='dashed', linewidth=1)\n",
    "plt.axvline(sample.mean(), color='k', linestyle='dashed', linewidth=1)\n",
    "plt.legend()  \n"
   ]
  },
  {
   "cell_type": "code",
   "execution_count": 48,
   "metadata": {},
   "outputs": [
    {
     "data": {
      "text/plain": [
       "Ttest_1sampResult(statistic=-1.363136569225191, pvalue=0.20596471089424312)"
      ]
     },
     "execution_count": 48,
     "metadata": {},
     "output_type": "execute_result"
    }
   ],
   "source": [
    "st.ttest_1samp(sample, population.mean())"
   ]
  }
 ],
 "metadata": {
  "kernelspec": {
   "display_name": "Python 3",
   "language": "python",
   "name": "python3"
  },
  "language_info": {
   "codemirror_mode": {
    "name": "ipython",
    "version": 3
   },
   "file_extension": ".py",
   "mimetype": "text/x-python",
   "name": "python",
   "nbconvert_exporter": "python",
   "pygments_lexer": "ipython3",
   "version": "3.9.18"
  },
  "varInspector": {
   "cols": {
    "lenName": 16,
    "lenType": 16,
    "lenVar": 40
   },
   "kernels_config": {
    "python": {
     "delete_cmd_postfix": "",
     "delete_cmd_prefix": "del ",
     "library": "var_list.py",
     "varRefreshCmd": "print(var_dic_list())"
    },
    "r": {
     "delete_cmd_postfix": ") ",
     "delete_cmd_prefix": "rm(",
     "library": "var_list.r",
     "varRefreshCmd": "cat(var_dic_list()) "
    }
   },
   "types_to_exclude": [
    "module",
    "function",
    "builtin_function_or_method",
    "instance",
    "_Feature"
   ],
   "window_display": false
  }
 },
 "nbformat": 4,
 "nbformat_minor": 2
}
